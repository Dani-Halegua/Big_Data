{
 "cells": [
  {
   "cell_type": "markdown",
   "metadata": {},
   "source": [
    "# TP 3 Big Data"
   ]
  },
  {
   "cell_type": "markdown",
   "metadata": {},
   "source": [
    "Exercice 1"
   ]
  },
  {
   "cell_type": "code",
   "execution_count": 4,
   "metadata": {},
   "outputs": [],
   "source": [
    "import numpy as np\n",
    "from matplotlib import pyplot"
   ]
  },
  {
   "cell_type": "markdown",
   "metadata": {},
   "source": [
    "Question 1 :"
   ]
  },
  {
   "cell_type": "code",
   "execution_count": 7,
   "metadata": {},
   "outputs": [],
   "source": [
    "def y(x1, x2):\n",
    "    if ( -1 <= x1 <= -0.5 or 0 <= x1 <= 0.5) and ( -1 <= x2 <= -0.5 or 0 <= x2 <= 0.5):\n",
    "        return 1\n",
    "    if ( -0.5 <= x1 <= 0 or 0.5 <= x1 <= 1) and ( -0.5 <= x2 <= 0 or 0.5 <= x2 <= 1):\n",
    "        return 1\n",
    "    else :\n",
    "        return -1\n",
    "\n",
    "def ech_train_test(nbApp, nbTest):\n",
    "    X_train = np.random.uniform(0, 1, (nbApp, 2))\n",
    "    Y_train = np.zeros(nbApp)\n",
    "    X_test = np.random.uniform(0, 1, (nbTest, 2))\n",
    "    Y_test = np.zeros(nbTest)\n",
    "    for i in range(nbApp):\n",
    "        Y_train[i] = y(X_train[:,0][i], X_train[:,1][i])\n",
    "    for j in range(nbTest):\n",
    "        Y_test[j] = y(X_test[:,0][j], X_test[:,1][j])\n",
    "    return X_train, Y_train, X_test, Y_test\n",
    "\n",
    "nbApp = 300; nbTest = 1000\n",
    "X_train, Y_train, X_test, Y_test = ech_train_test(nbApp, nbTest)"
   ]
  },
  {
   "cell_type": "code",
   "execution_count": null,
   "metadata": {},
   "outputs": [],
   "source": []
  }
 ],
 "metadata": {
  "kernelspec": {
   "display_name": "Python 3",
   "language": "python",
   "name": "python3"
  },
  "language_info": {
   "codemirror_mode": {
    "name": "ipython",
    "version": 3
   },
   "file_extension": ".py",
   "mimetype": "text/x-python",
   "name": "python",
   "nbconvert_exporter": "python",
   "pygments_lexer": "ipython3",
   "version": "3.7.4"
  }
 },
 "nbformat": 4,
 "nbformat_minor": 2
}
