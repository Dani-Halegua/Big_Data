{
 "cells": [
  {
   "cell_type": "markdown",
   "id": "434f8c69",
   "metadata": {},
   "source": [
    "# Big Data \n",
    "# Mini-projet : SVM\n",
    "# Dani Halegua - Luca Champesting - Idyano Leroy "
   ]
  },
  {
   "cell_type": "markdown",
   "id": "1e74cce2",
   "metadata": {},
   "source": [
    "# Exercice 1 mini-projet : Classification de chiffres"
   ]
  },
  {
   "cell_type": "markdown",
   "id": "307e761a",
   "metadata": {},
   "source": [
    "(1) On charge la base de données MNIST : "
   ]
  },
  {
   "cell_type": "code",
   "execution_count": 1,
   "id": "17f59b25",
   "metadata": {},
   "outputs": [
    {
     "name": "stdout",
     "output_type": "stream",
     "text": [
      "Les attributs des données MNIST :  ['DESCR', 'data', 'feature_names', 'frame', 'images', 'target', 'target_names']\n"
     ]
    },
    {
     "data": {
      "image/png": "[encoded data removed]",
      "text/plain": [
       "<Figure size 432x288 with 1 Axes>"
      ]
     },
     "metadata": {
      "needs_background": "light"
     },
     "output_type": "display_data"
    }
   ],
   "source": [
    "#Importations des bibliothèques necessaires\n",
    "import numpy as np\n",
    "import matplotlib.pyplot as plt\n",
    "from sklearn.datasets import load_digits\n",
    "from sklearn.svm import SVC\n",
    "from sklearn.model_selection import train_test_split\n",
    "from sklearn.metrics import accuracy_score\n",
    "\n",
    "digits = load_digits() # charge la base de données MNIST\n",
    "\n",
    "print(\"Les attributs des données MNIST : \", dir(digits))\n",
    "\n",
    "X = digits.images\n",
    "X = X / 255.0\n",
    "X = digits.images.reshape(digits.images.shape[0], digits.images.shape[1]*digits.images.shape[2]) #redimensionne les observations\n",
    "y = digits.target.reshape(digits.target.shape[0]) #etiquettes (labels) des observations\n",
    "\n",
    "#print(X.shape)\n",
    "#print(y.shape)\n",
    "\n",
    "def displayImage(i): #fonction affichage observation et son label\n",
    "    plt.title(f\"Label = {digits.target[i]}\")\n",
    "    plt.imshow(digits.images[i], cmap='gray')\n",
    "    plt.show()\n",
    "\n",
    "displayImage(67) #affichage d'une image d'un chiffre de la base de données MNIST"
   ]
  },
  {
   "cell_type": "code",
   "execution_count": 2,
   "id": "5b70b847",
   "metadata": {},
   "outputs": [
    {
     "name": "stdout",
     "output_type": "stream",
     "text": [
      "(449, 64)\n",
      "(1348,)\n",
      "(1348, 64) (64,) (1348,)\n"
     ]
    }
   ],
   "source": [
    "#Split data into train partition and test partition (taille 75 % des X) \n",
    "X_train, X_test, y_train, y_test = train_test_split(X, y, random_state=0, test_size=0.75)\n",
    "#Creer les echantillons pour chaque classe k pour les train et test\n",
    "y_train_0 = (y_train==0).astype(int) ; y_test_0 = (y_test==0).astype(int)\n",
    "y_train_1 = (y_train==1).astype(int) ; y_test_1 = (y_test==1).astype(int)\n",
    "y_train_2 = (y_train==2).astype(int) ; y_test_2 = (y_test==2).astype(int)\n",
    "y_train_3 = (y_train==3).astype(int) ; y_test_3 = (y_test==3).astype(int)\n",
    "y_train_4 = (y_train==4).astype(int) ; y_test_4 = (y_test==4).astype(int)\n",
    "y_train_5 = (y_train==5).astype(int) ; y_test_5 = (y_test==5).astype(int)\n",
    "y_train_6 = (y_train==6).astype(int) ; y_test_6 = (y_test==6).astype(int)\n",
    "y_train_7 = (y_train==7).astype(int) ; y_test_7 = (y_test==7).astype(int)\n",
    "y_train_8 = (y_train==8).astype(int) ; y_test_8 = (y_test==8).astype(int)\n",
    "y_train_9 = (y_train==9).astype(int) ; y_test_9 = (y_test==9).astype(int)\n",
    "\n",
    "print(X_train.shape)\n",
    "#print(y_train.shape)\n",
    "#print(X_test.shape)\n",
    "print(y_test.shape)\n",
    "\n",
    "print(X_test.shape, X_test[0,:].shape, X_test[:,0].shape)"
   ]
  },
  {
   "cell_type": "markdown",
   "id": "ff47c2ac",
   "metadata": {},
   "source": [
    " Construction des différents classifieurs binaires : "
   ]
  },
  {
   "cell_type": "code",
   "execution_count": 3,
   "id": "4a89c358",
   "metadata": {},
   "outputs": [],
   "source": [
    "C = 1/10\n",
    "\n",
    "clf_bin_0 = SVC(C=C, kernel='linear', random_state=0)\n",
    "clf_bin_0.fit(X_train,y_train_0)\n",
    "w0 = clf_bin_0.coef_\n",
    "b0 = clf_bin_0.intercept_\n",
    "#y_pred_0 = clf_bin_0.predict(X_test)\n",
    "\n",
    "clf_bin_1 = SVC(C=C, kernel='linear', random_state=0)\n",
    "clf_bin_1.fit(X_train,y_train_1)\n",
    "w1 = clf_bin_1.coef_\n",
    "b1 = clf_bin_1.intercept_\n",
    "#y_pred_1 = clf_bin_1.predict(X_test)\n",
    "\n",
    "clf_bin_2 = SVC(C=C, kernel='linear', random_state=0)\n",
    "clf_bin_2.fit(X_train,y_train_2)\n",
    "w2 = clf_bin_2.coef_\n",
    "b2 = clf_bin_2.intercept_\n",
    "#y_pred_2 = clf_bin_2.predict(X_test)\n",
    "\n",
    "clf_bin_3 = SVC(C=C, kernel='linear', random_state=0)\n",
    "clf_bin_3.fit(X_train,y_train_3)\n",
    "w3 = clf_bin_3.coef_\n",
    "b3 = clf_bin_3.intercept_\n",
    "#y_pred_3 = clf_bin_1.predict(X_test)\n",
    "\n",
    "clf_bin_4 = SVC(C=C, kernel='linear', random_state=0)\n",
    "clf_bin_4.fit(X_train,y_train_4)\n",
    "w4 = clf_bin_4.coef_\n",
    "b4 = clf_bin_4.intercept_\n",
    "#y_pred_4 = clf_bin_4.predict(X_test)\n",
    "\n",
    "clf_bin_5 = SVC(C=C, kernel='linear', random_state=0)\n",
    "clf_bin_5.fit(X_train,y_train_5)\n",
    "w5 = clf_bin_5.coef_\n",
    "b5 = clf_bin_5.intercept_\n",
    "#y_pred_5 = clf_bin_5.predict(X_test)\n",
    "\n",
    "clf_bin_6 = SVC(C=C, kernel='linear', random_state=0)\n",
    "clf_bin_6.fit(X_train,y_train_6)\n",
    "w6 = clf_bin_6.coef_\n",
    "b6 = clf_bin_6.intercept_\n",
    "#y_pred_6 = clf_bin_6.predict(X_test)\n",
    "\n",
    "clf_bin_7 = SVC(C=C, kernel='linear', random_state=0)\n",
    "clf_bin_7.fit(X_train,y_train_7)\n",
    "w7 = clf_bin_7.coef_\n",
    "b7 = clf_bin_7.intercept_\n",
    "#y_pred_7 = clf_bin_7.predict(X_test)\n",
    "\n",
    "clf_bin_8 = SVC(C=C, kernel='linear', random_state=0)\n",
    "clf_bin_8.fit(X_train,y_train_8)\n",
    "w8 = clf_bin_8.coef_\n",
    "b8 = clf_bin_8.intercept_\n",
    "#y_pred_8 = clf_bin_8.predict(X_test)\n",
    "\n",
    "clf_bin_9 = SVC(C=C, kernel='linear', random_state=0)\n",
    "clf_bin_9.fit(X_train,y_train_9)\n",
    "w9 = clf_bin_9.coef_\n",
    "b9 = clf_bin_9.intercept_\n",
    "#y_pred_9 = clf_bin_9.predict(X_test)"
   ]
  },
  {
   "cell_type": "markdown",
   "id": "e71cd207",
   "metadata": {},
   "source": [
    " Construction du classifieur multi-label avec la règle de $Argmax_{k = 0,...,9}  \\langle w_{k}, x \\rangle + b_{k}$ : "
   ]
  },
  {
   "cell_type": "code",
   "execution_count": 5,
   "id": "222ac6bf",
   "metadata": {},
   "outputs": [
    {
     "name": "stdout",
     "output_type": "stream",
     "text": [
      "[2. 8. 2. ... 0. 2. 0.]\n",
      "score = 0.9436201780415431\n"
     ]
    }
   ],
   "source": [
    "C = 1/10\n",
    "\n",
    "def one_vs_all_classifieur_multi_label(C, kernel, X_train, y_train, X_test, y_test):\n",
    "    w = []\n",
    "    b = []\n",
    "    for k in range(10): #pour les 10 classifieurs binaires \n",
    "        clf_bin = SVC(C=C, kernel=kernel, random_state=0)\n",
    "        clf_bin.fit(X_train,(y_train==k).astype(int)) #entraine les classifieurs binaires pour la classe k\n",
    "        w.append(clf_bin.coef_) #met dans une liste les w_k\n",
    "        b.append(clf_bin.intercept_) #met dans une liste les b_k\n",
    "    y_pred_multi = np.zeros(X_test[:,0].shape)\n",
    "    # regle de decision\n",
    "    for j in range(y_pred_multi.shape[0]):\n",
    "        #print(f\"Pour image = {j+1}\")\n",
    "        max_f_k = None\n",
    "        k = None\n",
    "        for i in range(len(w)):\n",
    "            #print(f\"Classe {i} : f_k {float(np.dot(w[i], X_test[j,:]) + b[i])}\")\n",
    "            if max_f_k == None or max_f_k < float(np.dot(w[i], X_test[j,:]) + b[i]) :\n",
    "                max_f_k = float(np.dot(w[i], X_test[j,:]) + b[i]) #argmax w_k*X + b_k\n",
    "                k = i\n",
    "        #print(f\"Classe retenue = {k}\")\n",
    "        y_pred_multi[j] = k #met la prediction de la classe dans le classifieur multi_label\n",
    "    score = accuracy_score(y_pred_multi,y_test)\n",
    "    return y_pred_multi, score\n",
    "\n",
    "y_pred_multi, score  = one_vs_all_classifieur_multi_label(C,'linear',X_train, y_train,X_test,y_test)\n",
    "print(y_pred_multi)\n",
    "print(\"score =\", score)"
   ]
  },
  {
   "cell_type": "markdown",
   "id": "c43a58cf",
   "metadata": {},
   "source": [
    "(2) Evaluation des performances du classifieur multi-label sur une base de test. On regarde quel noyau et valeur de paramètre C donnent les meilleurs performances :"
   ]
  },
  {
   "cell_type": "code",
   "execution_count": 6,
   "id": "ea2fd38f",
   "metadata": {},
   "outputs": [
    {
     "name": "stderr",
     "output_type": "stream",
     "text": [
      "100%|██████████████████████████████████████████████████████████████████████████████████| 12/12 [00:00<00:00, 14.77it/s]"
     ]
    },
    {
     "name": "stdout",
     "output_type": "stream",
     "text": [
      "Meilleur score = 0.9525222551928784 pour C = 0.01 et noyau = linear\n"
     ]
    },
    {
     "name": "stderr",
     "output_type": "stream",
     "text": [
      "\n"
     ]
    }
   ],
   "source": [
    "from tqdm import tqdm\n",
    "\n",
    "C = [0.001, 0.01, 0.1, 0.5, 1, 5, 10, 12, 15, 30, 50, 100]\n",
    "kernel_dico = {'linear'}  #on peut connaitre les poids w que lorsque le noyau est linéaire\n",
    "best_score = 0\n",
    "\n",
    "for c in tqdm (C):\n",
    "    for k in (kernel_dico):\n",
    "        y_pred, score = one_vs_all_classifieur_multi_label(c, k, X_train, y_train, X_test, y_test)\n",
    "\n",
    "        if score > best_score: # on garde les meilleurs paramètres en mémoire\n",
    "            best_score = score\n",
    "            best_C = c; best_kernel = k;\n",
    "\n",
    "print(f\"Meilleur score = {best_score} pour C = {best_C} et noyau = {best_kernel}\")"
   ]
  },
  {
   "cell_type": "markdown",
   "id": "79ec2b57",
   "metadata": {},
   "source": [
    "Notre classifieur crée manuellement ne nous permet de tester uniquement le noyau ``linear`` car les autres noyaux ne possèdent pas d'attribut ``coef_`` qui correspond au $w_k$ utilisé par notre classifieur."
   ]
  },
  {
   "cell_type": "markdown",
   "id": "6690a94d",
   "metadata": {},
   "source": [
    "Pour tester les performances des autres noyaux, on refait le même travail en utilisant l’implémentation des SVM multi-classe utilisant directement une stratégie de \"tous contre un\" de la fonction $\\textit{svc}$ :"
   ]
  },
  {
   "cell_type": "code",
   "execution_count": 7,
   "id": "8147d48d",
   "metadata": {},
   "outputs": [
    {
     "name": "stderr",
     "output_type": "stream",
     "text": [
      "100%|██████████████████████████████████████████████████████████████████████████████████| 11/11 [00:03<00:00,  2.82it/s]"
     ]
    },
    {
     "name": "stdout",
     "output_type": "stream",
     "text": [
      "Meilleur score = 0.9799703264094956 pour C = 5 et noyau = rbf\n"
     ]
    },
    {
     "name": "stderr",
     "output_type": "stream",
     "text": [
      "\n"
     ]
    }
   ],
   "source": [
    "from sklearn.multiclass import OneVsRestClassifier\n",
    "\n",
    "C = [0.01, 0.1, 0.5, 1, 5, 10, 12, 15, 30, 50, 100]\n",
    "kernel_dico = {'linear', 'poly', 'rbf', 'sigmoid'}\n",
    "best_score = 0\n",
    "\n",
    "for c in tqdm(C):\n",
    "    for k in kernel_dico:\n",
    "        clf_multi = OneVsRestClassifier(SVC(C=c, kernel=k, random_state=0)).fit(X_train, y_train) #strategie de tous contre un\n",
    "        y_pred = clf_multi.predict(X_test)\n",
    "        score = accuracy_score(y_pred,y_test)\n",
    "        if score > best_score: # on garde les meilleurs paramètres en mémoire\n",
    "            best_score = score\n",
    "            best_C = c; best_kernel = k;\n",
    "\n",
    "print(f\"Meilleur score = {best_score} pour C = {best_C} et noyau = {best_kernel}\")"
   ]
  },
  {
   "cell_type": "markdown",
   "id": "c0e63142",
   "metadata": {},
   "source": [
    "(3) On refait le même travail en utilisant l’implémentation des SVM multi-classe utilisant une stratégie de \"un contre un\" de la fonction $\\textit{svc}$ :"
   ]
  },
  {
   "cell_type": "code",
   "execution_count": 8,
   "id": "b4ff11ed",
   "metadata": {},
   "outputs": [
    {
     "name": "stderr",
     "output_type": "stream",
     "text": [
      "100%|██████████████████████████████████████████████████████████████████████████████████| 11/11 [00:15<00:00,  1.39s/it]"
     ]
    },
    {
     "name": "stdout",
     "output_type": "stream",
     "text": [
      "Meilleur score = 0.9821958456973294 pour C = 10 et noyau = rbf\n"
     ]
    },
    {
     "name": "stderr",
     "output_type": "stream",
     "text": [
      "\n"
     ]
    }
   ],
   "source": [
    "from sklearn.multiclass import OneVsOneClassifier\n",
    "\n",
    "C = [0.01, 0.1, 0.5, 1, 5, 10, 12, 15, 30, 50, 100]\n",
    "kernel_dico = {'linear', 'poly', 'rbf', 'sigmoid'}\n",
    "best_score = 0\n",
    "\n",
    "for c in tqdm(C):\n",
    "    for k in kernel_dico:\n",
    "        clf_multi = OneVsOneClassifier(SVC(C=c, kernel=k, random_state=0)).fit(X_train, y_train) #strategie de un contre un\n",
    "        y_pred = clf_multi.predict(X_test)\n",
    "        score = accuracy_score(y_pred,y_test)\n",
    "        if score > best_score: # on garde les meilleurs paramètres en mémoire\n",
    "            best_score = score\n",
    "            best_C = c; best_kernel = k;\n",
    "\n",
    "print(f\"Meilleur score = {best_score} pour C = {best_C} et noyau = {best_kernel}\")"
   ]
  },
  {
   "cell_type": "markdown",
   "id": "ae6aae5a",
   "metadata": {},
   "source": [
    "On observe que le meilleur résultat est obtenu grâce à la méthode \"un contre un\", même si pour les deux méthodes la précision est très élevée. De plus le noyau gaussien ``rbf`` couplé à un ``C`` = 10 semble donner les meilleurs résultats."
   ]
  },
  {
   "cell_type": "code",
   "execution_count": null,
   "id": "5e22e32a",
   "metadata": {},
   "outputs": [],
   "source": []
  }
 ],
 "metadata": {
  "kernelspec": {
   "display_name": "Python 3 (ipykernel)",
   "language": "python",
   "name": "python3"
  },
  "language_info": {
   "codemirror_mode": {
    "name": "ipython",
    "version": 3
   },
   "file_extension": ".py",
   "mimetype": "text/x-python",
   "name": "python",
   "nbconvert_exporter": "python",
   "pygments_lexer": "ipython3",
   "version": "3.9.7"
  }
 },
 "nbformat": 4,
 "nbformat_minor": 5
}
