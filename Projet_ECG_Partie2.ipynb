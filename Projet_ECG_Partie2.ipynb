{
  "cells": [
    {
      "cell_type": "markdown",
      "metadata": {
        "id": "view-in-github",
        "colab_type": "text"
      },
      "source": [
        "<a href=\"https://colab.research.google.com/github/Dani-Halegua/Big_Data/blob/main/Projet_ECG_Partie2.ipynb\" target=\"_parent\"><img src=\"https://colab.research.google.com/assets/colab-badge.svg\" alt=\"Open In Colab\"/></a>"
      ]
    },
    {
      "cell_type": "markdown",
      "source": [
        "# Projet Machine Learning / Image\n",
        "# Dani Halegua, Luca Champesting et Idyano Leroy\n",
        "\n",
        "## 2e partie \n",
        "\n",
        "Le but est de cette 2e partie est d'utiliser le DNN pré-entraîné de \"Ribeiro et al.\" et de le réutiliser sur de nouvelles données ECG.\n",
        "\n",
        "Les anomalies que nous cherchons à prédire sont les suivantes :\n",
        " - MI : Myocardial Infarction\n",
        " - HYP : Hypertrophy\n",
        " - CD : Conduction Disturbance\n",
        " - STTC : ST/T Change\n",
        "\n",
        "Pour ce faire, nous utiliserons dans un premier temps le transfert learning, c'est à dire qu'on va geler les couches du DNN, en modifiant la dernière couche de sorte à ce qu'elle colle à la structure de nos nouvelles données (on doit prédire 4 anomalies au lieu de 6).\n",
        "\n",
        "Dans un deuxième temps, afin d'améliorer notre modèle, nous ferons du fine tuning, c'est à dire que nous allons dé-geler les couches du DNN pour que le modèle puisse améliorer son apprentissage sur nos nouvelles données.\n",
        "\n"
      ],
      "metadata": {
        "id": "7lt3_LGmMU5E"
      },
      "id": "7lt3_LGmMU5E"
    },
    {
      "cell_type": "code",
      "source": [
        "pip install wfdb"
      ],
      "metadata": {
        "id": "dEoKrHdtAmoE"
      },
      "id": "dEoKrHdtAmoE",
      "execution_count": null,
      "outputs": []
    },
    {
      "cell_type": "code",
      "source": [
        "import pandas as pd\n",
        "import numpy as np\n",
        "import matplotlib.pyplot as plt\n",
        "import h5py\n",
        "\n",
        "from keras.models import load_model\n",
        "from tensorflow.keras.optimizers import Adam \n",
        "import seaborn as sns\n",
        "\n",
        "\n",
        "from tqdm import tqdm\n",
        "import wfdb\n",
        "import ast\n",
        "from google.colab import drive"
      ],
      "metadata": {
        "id": "sE3utpfJM9e4"
      },
      "id": "sE3utpfJM9e4",
      "execution_count": 3,
      "outputs": []
    },
    {
      "cell_type": "code",
      "source": [
        "from google.colab import drive\n",
        "drive.mount('/content/gdrive')"
      ],
      "metadata": {
        "colab": {
          "base_uri": "https://localhost:8080/"
        },
        "id": "jq5Gk9n6kPVy",
        "outputId": "a2258c3b-cc14-473d-bee4-d889a020d879"
      },
      "id": "jq5Gk9n6kPVy",
      "execution_count": 4,
      "outputs": [
        {
          "output_type": "stream",
          "name": "stdout",
          "text": [
            "Mounted at /content/gdrive\n"
          ]
        }
      ]
    },
    {
      "cell_type": "markdown",
      "id": "edae6879",
      "metadata": {
        "id": "edae6879"
      },
      "source": [
        "#Preprocessing\n"
      ]
    },
    {
      "cell_type": "markdown",
      "source": [
        "##  Récupération des données pour la phase d'entraînement"
      ],
      "metadata": {
        "id": "aNTeRPyENv1L"
      },
      "id": "aNTeRPyENv1L"
    },
    {
      "cell_type": "code",
      "source": [
        "path_data='/content/gdrive/MyDrive/PROJET_ML/ptb-xl-a-large-publicly-available-electrocardiography-dataset-1.0.1.zip'"
      ],
      "metadata": {
        "id": "xjFYqcFy5JMG"
      },
      "id": "xjFYqcFy5JMG",
      "execution_count": 5,
      "outputs": []
    },
    {
      "cell_type": "code",
      "source": [
        "\n",
        "!unzip '/content/gdrive/MyDrive/PROJET_ML/ptb-xl-a-large-publicly-available-electrocardiography-dataset-1.0.1.zip' \n"
      ],
      "metadata": {
        "id": "afSBBL3F5XL6"
      },
      "id": "afSBBL3F5XL6",
      "execution_count": null,
      "outputs": []
    },
    {
      "cell_type": "markdown",
      "source": [
        "Les données saturent la RAM, pour pallier à ce problème, on a décidé d'utiliser seulement les 5000 premières données."
      ],
      "metadata": {
        "id": "6XadrJnYINL6"
      },
      "id": "6XadrJnYINL6"
    },
    {
      "cell_type": "code",
      "execution_count": 7,
      "id": "60917243",
      "metadata": {
        "colab": {
          "base_uri": "https://localhost:8080/"
        },
        "id": "60917243",
        "outputId": "458a2bb4-d577-4bd6-8e66-4707004971dc"
      },
      "outputs": [
        {
          "output_type": "stream",
          "name": "stderr",
          "text": [
            "100%|██████████| 5000/5000 [00:16<00:00, 300.85it/s]\n"
          ]
        }
      ],
      "source": [
        "def load_raw_data(df, sampling_rate, path):\n",
        "    data = []\n",
        "    if sampling_rate == 100:\n",
        "        data = [wfdb.rdsamp(path+f) for f in df.filename_lr]\n",
        "    else:\n",
        "        i=0\n",
        "        for f in tqdm(df.filename_hr):\n",
        "            data.append(wfdb.rdsamp(path+f))\n",
        "            i+=1\n",
        "\n",
        "    data = np.array([signal for signal, meta in data])\n",
        "    return data\n",
        "\n",
        "path = 'ptb-xl-a-large-publicly-available-electrocardiography-dataset-1.0.1/'\n",
        "sampling_rate=500\n",
        "\n",
        "# load and convert annotation data\n",
        "Y = pd.read_csv(path + 'ptbxl_database.csv', index_col='ecg_id')\n",
        "\n",
        "Y.scp_codes = Y.scp_codes.apply(lambda x: ast.literal_eval(x))\n",
        "\n",
        "\n",
        "# Load raw signal data\n",
        "Y=Y[0:5000]\n",
        "X = load_raw_data(Y, sampling_rate, path)   #on charge qu'une partie des données pour pas que la RAM explose\n",
        "\n",
        "# Load scp_statements.csv for diagnostic aggregation\n",
        "agg_df = pd.read_csv(path+'scp_statements.csv', index_col=0)\n",
        "agg_df = agg_df[agg_df.diagnostic == 1]\n",
        "\n",
        "def aggregate_diagnostic(y_dic):\n",
        "    tmp = []\n",
        "    for key in y_dic.keys():\n",
        "        if key in agg_df.index:\n",
        "            tmp.append(agg_df.loc[key].diagnostic_class)\n",
        "    return list(set(tmp))\n",
        "\n",
        "# Apply diagnostic superclass\n",
        "Y['diagnostic_superclass'] = Y.scp_codes.apply(aggregate_diagnostic)\n",
        "\n",
        "# Split data into train and test\n",
        "test_fold = 10\n",
        "# Train\n",
        "X_train = X[np.where(Y.strat_fold != test_fold)]\n",
        "y_train = Y[(Y.strat_fold != test_fold)].diagnostic_superclass\n",
        "# Test\n",
        "X_test = X[np.where(Y.strat_fold == test_fold)]\n",
        "y_test = Y[Y.strat_fold == test_fold].diagnostic_superclass"
      ]
    },
    {
      "cell_type": "code",
      "execution_count": 8,
      "id": "748e6d07",
      "metadata": {
        "colab": {
          "base_uri": "https://localhost:8080/"
        },
        "id": "748e6d07",
        "outputId": "0fc239de-c6d2-4008-a9de-16fb1abdaa64"
      },
      "outputs": [
        {
          "output_type": "stream",
          "name": "stdout",
          "text": [
            "Taille de Y (5000, 28)\n",
            "Taille de X_train (4376, 5000, 12)\n",
            "Taille de X_test (624, 5000, 12)\n",
            "Taille de y_train (4376,)\n",
            "Taille de y_test (624,)\n"
          ]
        }
      ],
      "source": [
        "print(\"Taille de Y\",Y.shape)\n",
        "print(\"Taille de X_train\",X_train.shape)\n",
        "print(\"Taille de X_test\",X_test.shape)\n",
        "print(\"Taille de y_train\",y_train.shape)\n",
        "print(\"Taille de y_test\",y_test.shape)\n"
      ]
    },
    {
      "cell_type": "code",
      "execution_count": 9,
      "id": "e4f56a2f",
      "metadata": {
        "id": "e4f56a2f"
      },
      "outputs": [],
      "source": [
        "def delete_unk_ecg(x,y):\n",
        "    y = list(y)\n",
        "    x_processed,y_processed = [],[]\n",
        "    for index,dis in enumerate(y):\n",
        "        if dis != []:\n",
        "            x_processed.append(x[index])\n",
        "            y_processed.append(y[index])\n",
        "    return x_processed,y_processed\n",
        "\n",
        "\n",
        "X_train,y_train = delete_unk_ecg(X_train,y_train)\n",
        "X_test,y_test = delete_unk_ecg(X_test,y_test)\n",
        "            \n",
        "y_train = np.array(y_train,dtype=object)\n",
        "y_test = np.array(y_test,dtype=object)\n",
        "X_train = np.array(X_train)\n",
        "X_test = np.array(X_test)\n"
      ]
    },
    {
      "cell_type": "code",
      "execution_count": 10,
      "id": "d2b9bb22",
      "metadata": {
        "colab": {
          "base_uri": "https://localhost:8080/"
        },
        "id": "d2b9bb22",
        "outputId": "74da464c-38f8-45bf-9f69-78ffdd2f43af"
      },
      "outputs": [
        {
          "output_type": "stream",
          "name": "stdout",
          "text": [
            "(4327,)\n",
            "(4327, 5000, 12)\n",
            "(615, 5000, 12)\n",
            "(615,)\n"
          ]
        }
      ],
      "source": [
        "print(y_train.shape)\n",
        "print(X_train.shape)\n",
        "print(X_test.shape)\n",
        "print(y_test.shape)"
      ]
    },
    {
      "cell_type": "markdown",
      "id": "4b8f3ab3",
      "metadata": {
        "id": "4b8f3ab3"
      },
      "source": [
        "## Transformer le y_train dans un format utilisable\n",
        "    "
      ]
    },
    {
      "cell_type": "code",
      "execution_count": 11,
      "id": "8b3790a7",
      "metadata": {
        "colab": {
          "base_uri": "https://localhost:8080/"
        },
        "id": "8b3790a7",
        "outputId": "ac536b26-ca6d-4e92-da2e-46ede8b2b452"
      },
      "outputs": [
        {
          "output_type": "stream",
          "name": "stdout",
          "text": [
            "(4327, 4)\n",
            "(615, 4)\n"
          ]
        }
      ],
      "source": [
        "#Define the diseases\n",
        "diseases = [\"NORM\",\"MI\",\"HYP\",\"CD\",\"STTC\"]\n",
        "\n",
        "#Create a RIBEIRO format training data\n",
        "def Ribeiro_convert(y_train):\n",
        "    \n",
        "    y_train = list(y_train)\n",
        "\n",
        "    y_train_ = [[0,0,0,0] for i in list(y_train)]\n",
        "    for index, info in enumerate(y_train):\n",
        "\n",
        "        for disease in info:\n",
        "\n",
        "            if disease != 'NORM':\n",
        "                y_train_[index][diseases.index(disease)-1] = 1\n",
        "\n",
        "    y_train_ = np.array(y_train_)\n",
        "    return y_train_\n",
        "\n",
        "y_train = Ribeiro_convert(y_train)\n",
        "y_test = Ribeiro_convert(y_test)\n",
        "\n",
        "print(y_train.shape)\n",
        "print(y_test.shape)\n",
        "\n",
        "\n",
        "##Reformat the ECG aquisition, 4048 samples needed."
      ]
    },
    {
      "cell_type": "markdown",
      "id": "fcc42fd9",
      "metadata": {
        "id": "fcc42fd9"
      },
      "source": [
        "## Rescale les données\n",
        "    Ribeiro is adaptated to 400Hz/10sec : 4096 samples, on this dataset the ECG are converted into 5000 samples array, we have to interpolate and convert array with shape (5000,) into (4096,)\n",
        "    "
      ]
    },
    {
      "cell_type": "code",
      "execution_count": 12,
      "id": "eb050f71",
      "metadata": {
        "colab": {
          "base_uri": "https://localhost:8080/"
        },
        "id": "eb050f71",
        "outputId": "54daa8c5-7492-4036-993b-86946994a156"
      },
      "outputs": [
        {
          "output_type": "stream",
          "name": "stdout",
          "text": [
            "(4327, 5000, 12)\n",
            "(4327, 4096, 12)\n",
            "(615, 5000, 12)\n",
            "(615, 4096, 12)\n"
          ]
        }
      ],
      "source": [
        "import cv2 # opencv\n",
        "\n",
        "def convert_X(X,scale):\n",
        "    X_conv = np.empty((X.shape[0], 4096, 12))\n",
        "    for index,array in enumerate(X):\n",
        "        array = cv2.resize(array,(12,scale))\n",
        "        X_conv[index,:,:]=array\n",
        "    return X_conv\n",
        "    \n",
        "X_train_=convert_X(X_train,4096)    \n",
        "X_test_=convert_X(X_test,4096)    \n",
        "\n",
        "print(X_train.shape)\n",
        "print(X_train_.shape)\n",
        "print(X_test.shape)\n",
        "print(X_test_.shape)"
      ]
    },
    {
      "cell_type": "code",
      "source": [
        "pip install matplotlib==3.1.3 "
      ],
      "metadata": {
        "id": "wvoVQM4QSakX"
      },
      "id": "wvoVQM4QSakX",
      "execution_count": null,
      "outputs": []
    },
    {
      "cell_type": "code",
      "execution_count": null,
      "id": "7e7958e3",
      "metadata": {
        "colab": {
          "base_uri": "https://localhost:8080/",
          "height": 300
        },
        "id": "7e7958e3",
        "outputId": "5914cd32-60cd-4d63-86d1-fef8afdcf594"
      },
      "outputs": [
        {
          "output_type": "stream",
          "name": "stdout",
          "text": [
            "y= [1 0 0 0]\n",
            "Disease = MI\n"
          ]
        },
        {
          "output_type": "display_data",
          "data": {
            "image/png": "[encoded data removed]",
            "text/plain": [
              "<Figure size 432x288 with 2 Axes>"
            ]
          },
          "metadata": {
            "needs_background": "light"
          }
        }
      ],
      "source": [
        "\n",
        "\n",
        "y = np.linspace(0,10,5000)\n",
        "y_ =np.linspace(0,10,4096)\n",
        "\n",
        "\n",
        "ObsID=7     #you can change the obsevations here\n",
        "ChannelID=0 #you can change the channel here\n",
        "\n",
        "plt.subplot(2, 1, 1)\n",
        "plt.plot(y,X_train[ObsID,:,ChannelID])\n",
        "plt.subplot(2, 1, 2)\n",
        "plt.plot(y_,X_train_[ObsID,:,ChannelID])\n",
        "\n",
        "print('y=',y_train[ObsID])\n",
        "\n",
        "if (y_train[ObsID][0]==1):\n",
        "    print(\"Disease = MI\")\n",
        "elif (y_train[ObsID][1]==1):\n",
        "    print(\"Disease = HYP\")\n",
        "elif (y_train[ObsID][2]==1):\n",
        "    print(\"Disease = CD\")\n",
        "elif (y_train[ObsID][3]==1):\n",
        "    print(\"Disease = STTC\")\n"
      ]
    },
    {
      "cell_type": "code",
      "execution_count": null,
      "id": "8e8cda25",
      "metadata": {
        "colab": {
          "base_uri": "https://localhost:8080/"
        },
        "id": "8e8cda25",
        "outputId": "5156684a-3c2b-4e53-e141-4a2202a17a9e"
      },
      "outputs": [
        {
          "output_type": "execute_result",
          "data": {
            "text/plain": [
              "(4327, 4096, 12)"
            ]
          },
          "metadata": {},
          "execution_count": 18
        }
      ],
      "source": [
        "X_train_.shape"
      ]
    },
    {
      "cell_type": "markdown",
      "source": [
        "#Transfert learning\n",
        "Le but du transfert learning est de ré-utiliser un modèle performant déjà entrainé pour une tâche similaire (ici la détéction d'anomalies) dans le but d'améliorer notre propre modèle.\n",
        "\n",
        "Plus précisément, les 4 étapes du transfert learning sont les suivantes :\n",
        "\n",
        " - Charger un modèle déjà entrainé avec les poids qu'il a appris\n",
        " - Freeze toutes ses couches en fixant ``trainable = False`` (pour éviter  de détruire les informations obtenues par le modèle de base)\n",
        " - Rajouter un petit modèle de classification en sortie du modèle de base pour prédire à l'aide des anciennes features\n",
        " - Entrainer notre nouveau modèle sur notre dataset.\n"
      ],
      "metadata": {
        "id": "Yp2i2sqXLQ8I"
      },
      "id": "Yp2i2sqXLQ8I"
    },
    {
      "cell_type": "code",
      "execution_count": 18,
      "id": "90e90ee6",
      "metadata": {
        "id": "90e90ee6"
      },
      "outputs": [],
      "source": [
        "import numpy as np\n",
        "import tensorflow as tf\n",
        "from tensorflow import keras\n",
        "from tensorflow.keras.layers import Conv2D, MaxPooling2D, Flatten, Dense, BatchNormalization, Dropout\n",
        "from tensorflow.keras.models import Sequential\n",
        "from keras import Model"
      ]
    },
    {
      "cell_type": "code",
      "source": [
        "base_model = load_model(f\"/content/gdrive/MyDrive/PROJET_ML/model/model.hdf5\", compile=False)\n",
        "\n",
        "\n"
      ],
      "metadata": {
        "id": "jfT9DckqTaf4"
      },
      "id": "jfT9DckqTaf4",
      "execution_count": 25,
      "outputs": []
    },
    {
      "cell_type": "code",
      "execution_count": 26,
      "id": "710bc361",
      "metadata": {
        "id": "710bc361"
      },
      "outputs": [],
      "source": [
        "base_model.trainable = False   #on gèle le modèle\n",
        "\n",
        "last_output = base_model.layers[:-1][-1].output #on récupère l'avant dernière sortie\n",
        "\n",
        "conv_top = Dense(4096,activation='relu', trainable=True)(last_output)   #On rajoute une couche de classification\n",
        "conv_top = Dense(4,activation='sigmoid', trainable=True)(conv_top)   \n",
        "\n",
        "model1 = Model(inputs=base_model.input, outputs=conv_top)\n"
      ]
    },
    {
      "cell_type": "code",
      "execution_count": null,
      "id": "49f55f86",
      "metadata": {
        "id": "49f55f86",
        "colab": {
          "base_uri": "https://localhost:8080/"
        },
        "outputId": "68f33e49-2cb0-4143-ba49-0e8e306f90d1"
      },
      "outputs": [
        {
          "output_type": "stream",
          "name": "stdout",
          "text": [
            "Model: \"model_2\"\n",
            "__________________________________________________________________________________________________\n",
            " Layer (type)                   Output Shape         Param #     Connected to                     \n",
            "==================================================================================================\n",
            " signal (InputLayer)            [(None, 4096, 12)]   0           []                               \n",
            "                                                                                                  \n",
            " conv1d_1 (Conv1D)              (None, 4096, 64)     12288       ['signal[0][0]']                 \n",
            "                                                                                                  \n",
            " batch_normalization_1 (BatchNo  (None, 4096, 64)    256         ['conv1d_1[0][0]']               \n",
            " rmalization)                                                                                     \n",
            "                                                                                                  \n",
            " activation_1 (Activation)      (None, 4096, 64)     0           ['batch_normalization_1[0][0]']  \n",
            "                                                                                                  \n",
            " conv1d_3 (Conv1D)              (None, 4096, 128)    131072      ['activation_1[0][0]']           \n",
            "                                                                                                  \n",
            " batch_normalization_2 (BatchNo  (None, 4096, 128)   512         ['conv1d_3[0][0]']               \n",
            " rmalization)                                                                                     \n",
            "                                                                                                  \n",
            " activation_2 (Activation)      (None, 4096, 128)    0           ['batch_normalization_2[0][0]']  \n",
            "                                                                                                  \n",
            " dropout_1 (Dropout)            (None, 4096, 128)    0           ['activation_2[0][0]']           \n",
            "                                                                                                  \n",
            " max_pooling1d_1 (MaxPooling1D)  (None, 1024, 64)    0           ['activation_1[0][0]']           \n",
            "                                                                                                  \n",
            " conv1d_4 (Conv1D)              (None, 1024, 128)    262144      ['dropout_1[0][0]']              \n",
            "                                                                                                  \n",
            " conv1d_2 (Conv1D)              (None, 1024, 128)    8192        ['max_pooling1d_1[0][0]']        \n",
            "                                                                                                  \n",
            " add_1 (Add)                    (None, 1024, 128)    0           ['conv1d_4[0][0]',               \n",
            "                                                                  'conv1d_2[0][0]']               \n",
            "                                                                                                  \n",
            " batch_normalization_3 (BatchNo  (None, 1024, 128)   512         ['add_1[0][0]']                  \n",
            " rmalization)                                                                                     \n",
            "                                                                                                  \n",
            " activation_3 (Activation)      (None, 1024, 128)    0           ['batch_normalization_3[0][0]']  \n",
            "                                                                                                  \n",
            " dropout_2 (Dropout)            (None, 1024, 128)    0           ['activation_3[0][0]']           \n",
            "                                                                                                  \n",
            " conv1d_6 (Conv1D)              (None, 1024, 196)    401408      ['dropout_2[0][0]']              \n",
            "                                                                                                  \n",
            " batch_normalization_4 (BatchNo  (None, 1024, 196)   784         ['conv1d_6[0][0]']               \n",
            " rmalization)                                                                                     \n",
            "                                                                                                  \n",
            " activation_4 (Activation)      (None, 1024, 196)    0           ['batch_normalization_4[0][0]']  \n",
            "                                                                                                  \n",
            " dropout_3 (Dropout)            (None, 1024, 196)    0           ['activation_4[0][0]']           \n",
            "                                                                                                  \n",
            " max_pooling1d_2 (MaxPooling1D)  (None, 256, 128)    0           ['add_1[0][0]']                  \n",
            "                                                                                                  \n",
            " conv1d_7 (Conv1D)              (None, 256, 196)     614656      ['dropout_3[0][0]']              \n",
            "                                                                                                  \n",
            " conv1d_5 (Conv1D)              (None, 256, 196)     25088       ['max_pooling1d_2[0][0]']        \n",
            "                                                                                                  \n",
            " add_2 (Add)                    (None, 256, 196)     0           ['conv1d_7[0][0]',               \n",
            "                                                                  'conv1d_5[0][0]']               \n",
            "                                                                                                  \n",
            " batch_normalization_5 (BatchNo  (None, 256, 196)    784         ['add_2[0][0]']                  \n",
            " rmalization)                                                                                     \n",
            "                                                                                                  \n",
            " activation_5 (Activation)      (None, 256, 196)     0           ['batch_normalization_5[0][0]']  \n",
            "                                                                                                  \n",
            " dropout_4 (Dropout)            (None, 256, 196)     0           ['activation_5[0][0]']           \n",
            "                                                                                                  \n",
            " conv1d_9 (Conv1D)              (None, 256, 256)     802816      ['dropout_4[0][0]']              \n",
            "                                                                                                  \n",
            " batch_normalization_6 (BatchNo  (None, 256, 256)    1024        ['conv1d_9[0][0]']               \n",
            " rmalization)                                                                                     \n",
            "                                                                                                  \n",
            " activation_6 (Activation)      (None, 256, 256)     0           ['batch_normalization_6[0][0]']  \n",
            "                                                                                                  \n",
            " dropout_5 (Dropout)            (None, 256, 256)     0           ['activation_6[0][0]']           \n",
            "                                                                                                  \n",
            " max_pooling1d_3 (MaxPooling1D)  (None, 64, 196)     0           ['add_2[0][0]']                  \n",
            "                                                                                                  \n",
            " conv1d_10 (Conv1D)             (None, 64, 256)      1048576     ['dropout_5[0][0]']              \n",
            "                                                                                                  \n",
            " conv1d_8 (Conv1D)              (None, 64, 256)      50176       ['max_pooling1d_3[0][0]']        \n",
            "                                                                                                  \n",
            " add_3 (Add)                    (None, 64, 256)      0           ['conv1d_10[0][0]',              \n",
            "                                                                  'conv1d_8[0][0]']               \n",
            "                                                                                                  \n",
            " batch_normalization_7 (BatchNo  (None, 64, 256)     1024        ['add_3[0][0]']                  \n",
            " rmalization)                                                                                     \n",
            "                                                                                                  \n",
            " activation_7 (Activation)      (None, 64, 256)      0           ['batch_normalization_7[0][0]']  \n",
            "                                                                                                  \n",
            " dropout_6 (Dropout)            (None, 64, 256)      0           ['activation_7[0][0]']           \n",
            "                                                                                                  \n",
            " conv1d_12 (Conv1D)             (None, 64, 320)      1310720     ['dropout_6[0][0]']              \n",
            "                                                                                                  \n",
            " batch_normalization_8 (BatchNo  (None, 64, 320)     1280        ['conv1d_12[0][0]']              \n",
            " rmalization)                                                                                     \n",
            "                                                                                                  \n",
            " activation_8 (Activation)      (None, 64, 320)      0           ['batch_normalization_8[0][0]']  \n",
            "                                                                                                  \n",
            " dropout_7 (Dropout)            (None, 64, 320)      0           ['activation_8[0][0]']           \n",
            "                                                                                                  \n",
            " max_pooling1d_4 (MaxPooling1D)  (None, 16, 256)     0           ['add_3[0][0]']                  \n",
            "                                                                                                  \n",
            " conv1d_13 (Conv1D)             (None, 16, 320)      1638400     ['dropout_7[0][0]']              \n",
            "                                                                                                  \n",
            " conv1d_11 (Conv1D)             (None, 16, 320)      81920       ['max_pooling1d_4[0][0]']        \n",
            "                                                                                                  \n",
            " add_4 (Add)                    (None, 16, 320)      0           ['conv1d_13[0][0]',              \n",
            "                                                                  'conv1d_11[0][0]']              \n",
            "                                                                                                  \n",
            " batch_normalization_9 (BatchNo  (None, 16, 320)     1280        ['add_4[0][0]']                  \n",
            " rmalization)                                                                                     \n",
            "                                                                                                  \n",
            " activation_9 (Activation)      (None, 16, 320)      0           ['batch_normalization_9[0][0]']  \n",
            "                                                                                                  \n",
            " dropout_8 (Dropout)            (None, 16, 320)      0           ['activation_9[0][0]']           \n",
            "                                                                                                  \n",
            " flatten_1 (Flatten)            (None, 5120)         0           ['dropout_8[0][0]']              \n",
            "                                                                                                  \n",
            " dense_4 (Dense)                (None, 4096)         20975616    ['flatten_1[0][0]']              \n",
            "                                                                                                  \n",
            " dense_5 (Dense)                (None, 4)            16388       ['dense_4[0][0]']                \n",
            "                                                                                                  \n",
            "==================================================================================================\n",
            "Total params: 27,386,916\n",
            "Trainable params: 20,992,004\n",
            "Non-trainable params: 6,394,912\n",
            "__________________________________________________________________________________________________\n"
          ]
        }
      ],
      "source": [
        "model1.summary()"
      ]
    },
    {
      "cell_type": "code",
      "source": [
        "import matplotlib.pyplot as plt \n",
        "\n",
        "def plot_learning_curves(history):                         #petit programme pour afficher l'évolution de la loss lors de l'entrainement\n",
        "  # Plot training & validation loss values\n",
        "  plt.plot(history.history['loss'])\n",
        "  plt.plot(history.history['val_loss'])\n",
        "  plt.title('Model loss')\n",
        "  plt.ylabel('Loss')\n",
        "  plt.xlabel('Epoch')\n",
        "  plt.legend(['Train', 'Test'], loc='upper left')\n",
        "  plt.show()"
      ],
      "metadata": {
        "id": "Y4XlXCBkbEba"
      },
      "id": "Y4XlXCBkbEba",
      "execution_count": 21,
      "outputs": []
    },
    {
      "cell_type": "code",
      "execution_count": 27,
      "id": "2cf49b4d",
      "metadata": {
        "colab": {
          "base_uri": "https://localhost:8080/",
          "height": 989
        },
        "id": "2cf49b4d",
        "outputId": "bccfab95-c441-4ef4-ae91-0b796626c9e9"
      },
      "outputs": [
        {
          "output_type": "stream",
          "name": "stdout",
          "text": [
            "Epoch 1/20\n",
            "28/28 [==============================] - 5s 124ms/step - loss: 0.4763 - val_loss: 0.4728\n",
            "Epoch 2/20\n",
            "28/28 [==============================] - 3s 104ms/step - loss: 0.4230 - val_loss: 0.4640\n",
            "Epoch 3/20\n",
            "28/28 [==============================] - 3s 102ms/step - loss: 0.4086 - val_loss: 0.4637\n",
            "Epoch 4/20\n",
            "28/28 [==============================] - 3s 100ms/step - loss: 0.4037 - val_loss: 0.4414\n",
            "Epoch 5/20\n",
            "28/28 [==============================] - 3s 100ms/step - loss: 0.4025 - val_loss: 0.4385\n",
            "Epoch 6/20\n",
            "28/28 [==============================] - 3s 100ms/step - loss: 0.3991 - val_loss: 0.4408\n",
            "Epoch 7/20\n",
            "28/28 [==============================] - 3s 99ms/step - loss: 0.3980 - val_loss: 0.4339\n",
            "Epoch 8/20\n",
            "28/28 [==============================] - 3s 100ms/step - loss: 0.3923 - val_loss: 0.4370\n",
            "Epoch 9/20\n",
            "28/28 [==============================] - 3s 100ms/step - loss: 0.3929 - val_loss: 0.4425\n",
            "Epoch 10/20\n",
            "28/28 [==============================] - 3s 100ms/step - loss: 0.3949 - val_loss: 0.4306\n",
            "Epoch 11/20\n",
            "28/28 [==============================] - 3s 100ms/step - loss: 0.3908 - val_loss: 0.4267\n",
            "Epoch 12/20\n",
            "28/28 [==============================] - 3s 99ms/step - loss: 0.3874 - val_loss: 0.4233\n",
            "Epoch 13/20\n",
            "28/28 [==============================] - 3s 100ms/step - loss: 0.3868 - val_loss: 0.4256\n",
            "Epoch 14/20\n",
            "28/28 [==============================] - 3s 99ms/step - loss: 0.3872 - val_loss: 0.4223\n",
            "Epoch 15/20\n",
            "28/28 [==============================] - 3s 99ms/step - loss: 0.3903 - val_loss: 0.4313\n",
            "Epoch 16/20\n",
            "28/28 [==============================] - 3s 99ms/step - loss: 0.3881 - val_loss: 0.4291\n",
            "Epoch 17/20\n",
            "28/28 [==============================] - 3s 99ms/step - loss: 0.3851 - val_loss: 0.4312\n",
            "Epoch 18/20\n",
            "28/28 [==============================] - 3s 102ms/step - loss: 0.3892 - val_loss: 0.4186\n",
            "Epoch 19/20\n",
            "28/28 [==============================] - 3s 99ms/step - loss: 0.3846 - val_loss: 0.4196\n",
            "Epoch 20/20\n",
            "28/28 [==============================] - 3s 99ms/step - loss: 0.3812 - val_loss: 0.4135\n"
          ]
        },
        {
          "output_type": "display_data",
          "data": {
            "image/png": "[encoded data removed]",
            "text/plain": [
              "<Figure size 432x288 with 1 Axes>"
            ]
          },
          "metadata": {
            "needs_background": "light"
          }
        }
      ],
      "source": [
        "model1.compile(loss = 'binary_crossentropy', optimizer = Adam()\n",
        "              )\n",
        "\n",
        "epochs = 20\n",
        "batch_size = 128\n",
        "history = model1.fit(X_train_, y_train, batch_size = batch_size , epochs = epochs, validation_split=0.2)\n",
        "plot_learning_curves(history)"
      ]
    },
    {
      "cell_type": "markdown",
      "source": [
        "## Evaluation du modèle \n",
        "Comme pour la 1ère partie du projet nous évaluerons notre modèle avec l'accuracy, le F1-score et la matrice de confusion. On évalue notre modèle pour les 4 anomalies que nous cherchons à détecter. \n",
        "\n",
        "Premièrement, on doit transformer les probabilités calculées par notre DNN en prédictions 0 ou 1, on utilisera le seuil de 0.5 (si la probabilité qu'un patient possède une anomalie est supérieure à 50%, alors on prédira que le patient est atteint de cette anomalie)."
      ],
      "metadata": {
        "id": "kB5wAolOcmOg"
      },
      "id": "kB5wAolOcmOg"
    },
    {
      "cell_type": "code",
      "execution_count": 17,
      "id": "9fd13040",
      "metadata": {
        "id": "9fd13040"
      },
      "outputs": [],
      "source": [
        "from sklearn.metrics import accuracy_score, f1_score, confusion_matrix, precision_recall_curve\n"
      ]
    },
    {
      "cell_type": "code",
      "source": [
        "a1 = sum(y_test[:,0])/len(y_test[:,0])*100\n",
        "a2 = sum(y_test[:,1])/len(y_test[:,0])*100\n",
        "a3 = sum(y_test[:,2])/len(y_test[:,0])*100\n",
        "a4 = sum(y_test[:,3])/len(y_test[:,0])*100\n",
        "print(\"Pourcentage de patients atteint de l'anomalie MI : \" ,a1,\"%\")\n",
        "print(\"Pourcentage de patients atteint de l'anomalie HYP : \" ,a2,\"%\")\n",
        "print(\"Pourcentage de patients atteint de l'anomalie CD : \" ,a3,\"%\")\n",
        "print(\"Pourcentage de patients atteint de l'anomalie STTC : \" ,a4,\"%\")"
      ],
      "metadata": {
        "colab": {
          "base_uri": "https://localhost:8080/"
        },
        "id": "1HgyijbIK97a",
        "outputId": "d1d16a62-36d3-46eb-ad9d-489547bb5bc3"
      },
      "id": "1HgyijbIK97a",
      "execution_count": 16,
      "outputs": [
        {
          "output_type": "stream",
          "name": "stdout",
          "text": [
            "Pourcentage de patients atteint de l'anomalie MI :  20.8130081300813 %\n",
            "Pourcentage de patients atteint de l'anomalie HYP :  11.544715447154472 %\n",
            "Pourcentage de patients atteint de l'anomalie CD :  18.86178861788618 %\n",
            "Pourcentage de patients atteint de l'anomalie STTC :  22.76422764227642 %\n"
          ]
        }
      ]
    },
    {
      "cell_type": "markdown",
      "source": [
        "On observe que les classes sont déséquilibrées, particulièrement pour la classe HYP."
      ],
      "metadata": {
        "id": "-XPSH525Oapc"
      },
      "id": "-XPSH525Oapc"
    },
    {
      "cell_type": "code",
      "execution_count": null,
      "id": "eac3d8df",
      "metadata": {
        "id": "eac3d8df"
      },
      "outputs": [],
      "source": [
        "model1_pred = model1.predict(X_test_)"
      ]
    },
    {
      "cell_type": "code",
      "execution_count": null,
      "id": "0e49b748",
      "metadata": {
        "id": "0e49b748",
        "colab": {
          "base_uri": "https://localhost:8080/"
        },
        "outputId": "e7771e0b-388f-40a3-b751-24ee282efb3b"
      },
      "outputs": [
        {
          "output_type": "execute_result",
          "data": {
            "text/plain": [
              "array([[0.05616953, 0.04622551, 0.03067736, 0.15969916],\n",
              "       [0.05625955, 0.04069826, 0.07703725, 0.10723074],\n",
              "       [0.23924497, 0.19708422, 0.3008057 , 0.24409407],\n",
              "       ...,\n",
              "       [0.40022588, 0.22915116, 0.49655914, 0.3637629 ],\n",
              "       [0.29156333, 0.21973811, 0.76276064, 0.28983483],\n",
              "       [0.04876403, 0.03572192, 0.02961349, 0.15709482]], dtype=float32)"
            ]
          },
          "metadata": {},
          "execution_count": 56
        }
      ],
      "source": [
        "model1_pred"
      ]
    },
    {
      "cell_type": "code",
      "execution_count": null,
      "id": "ab05ede2",
      "metadata": {
        "id": "ab05ede2"
      },
      "outputs": [],
      "source": [
        "pred1 = np.zeros((model1_pred.shape[0],4))\n",
        "for i in range(model1_pred.shape[0]):\n",
        "  for j in range (4):\n",
        "    pred1[i,j]=np.round(model1_pred[i,j])   #seuil 0.5\n",
        "\n",
        "\n",
        "pred1=pd.DataFrame(pred1, columns =[\"MI\",\"HYP\",\"CD\",\"STTC\"])"
      ]
    },
    {
      "cell_type": "code",
      "execution_count": null,
      "id": "921e9f73",
      "metadata": {
        "id": "921e9f73",
        "colab": {
          "base_uri": "https://localhost:8080/",
          "height": 423
        },
        "outputId": "16c73cfa-31d9-4437-d450-2649a0dea8bd"
      },
      "outputs": [
        {
          "output_type": "execute_result",
          "data": {
            "text/html": [
              "\n",
              "  <div id=\"df-d41ed7bf-db7e-4a8a-ba4f-6287d6f55e81\">\n",
              "    <div class=\"colab-df-container\">\n",
              "      <div>\n",
              "<style scoped>\n",
              "    .dataframe tbody tr th:only-of-type {\n",
              "        vertical-align: middle;\n",
              "    }\n",
              "\n",
              "    .dataframe tbody tr th {\n",
              "        vertical-align: top;\n",
              "    }\n",
              "\n",
              "    .dataframe thead th {\n",
              "        text-align: right;\n",
              "    }\n",
              "</style>\n",
              "<table border=\"1\" class=\"dataframe\">\n",
              "  <thead>\n",
              "    <tr style=\"text-align: right;\">\n",
              "      <th></th>\n",
              "      <th>MI</th>\n",
              "      <th>HYP</th>\n",
              "      <th>CD</th>\n",
              "      <th>STTC</th>\n",
              "    </tr>\n",
              "  </thead>\n",
              "  <tbody>\n",
              "    <tr>\n",
              "      <th>0</th>\n",
              "      <td>0.0</td>\n",
              "      <td>0.0</td>\n",
              "      <td>0.0</td>\n",
              "      <td>0.0</td>\n",
              "    </tr>\n",
              "    <tr>\n",
              "      <th>1</th>\n",
              "      <td>0.0</td>\n",
              "      <td>0.0</td>\n",
              "      <td>0.0</td>\n",
              "      <td>0.0</td>\n",
              "    </tr>\n",
              "    <tr>\n",
              "      <th>2</th>\n",
              "      <td>0.0</td>\n",
              "      <td>0.0</td>\n",
              "      <td>0.0</td>\n",
              "      <td>0.0</td>\n",
              "    </tr>\n",
              "    <tr>\n",
              "      <th>3</th>\n",
              "      <td>0.0</td>\n",
              "      <td>0.0</td>\n",
              "      <td>0.0</td>\n",
              "      <td>0.0</td>\n",
              "    </tr>\n",
              "    <tr>\n",
              "      <th>4</th>\n",
              "      <td>0.0</td>\n",
              "      <td>0.0</td>\n",
              "      <td>0.0</td>\n",
              "      <td>0.0</td>\n",
              "    </tr>\n",
              "    <tr>\n",
              "      <th>...</th>\n",
              "      <td>...</td>\n",
              "      <td>...</td>\n",
              "      <td>...</td>\n",
              "      <td>...</td>\n",
              "    </tr>\n",
              "    <tr>\n",
              "      <th>610</th>\n",
              "      <td>0.0</td>\n",
              "      <td>0.0</td>\n",
              "      <td>0.0</td>\n",
              "      <td>0.0</td>\n",
              "    </tr>\n",
              "    <tr>\n",
              "      <th>611</th>\n",
              "      <td>0.0</td>\n",
              "      <td>0.0</td>\n",
              "      <td>0.0</td>\n",
              "      <td>0.0</td>\n",
              "    </tr>\n",
              "    <tr>\n",
              "      <th>612</th>\n",
              "      <td>0.0</td>\n",
              "      <td>0.0</td>\n",
              "      <td>0.0</td>\n",
              "      <td>0.0</td>\n",
              "    </tr>\n",
              "    <tr>\n",
              "      <th>613</th>\n",
              "      <td>0.0</td>\n",
              "      <td>0.0</td>\n",
              "      <td>1.0</td>\n",
              "      <td>0.0</td>\n",
              "    </tr>\n",
              "    <tr>\n",
              "      <th>614</th>\n",
              "      <td>0.0</td>\n",
              "      <td>0.0</td>\n",
              "      <td>0.0</td>\n",
              "      <td>0.0</td>\n",
              "    </tr>\n",
              "  </tbody>\n",
              "</table>\n",
              "<p>615 rows × 4 columns</p>\n",
              "</div>\n",
              "      <button class=\"colab-df-convert\" onclick=\"convertToInteractive('df-d41ed7bf-db7e-4a8a-ba4f-6287d6f55e81')\"\n",
              "              title=\"Convert this dataframe to an interactive table.\"\n",
              "              style=\"display:none;\">\n",
              "        \n",
              "  <svg xmlns=\"http://www.w3.org/2000/svg\" height=\"24px\"viewBox=\"0 0 24 24\"\n",
              "       width=\"24px\">\n",
              "    <path d=\"M0 0h24v24H0V0z\" fill=\"none\"/>\n",
              "    <path d=\"M18.56 5.44l.94 2.06.94-2.06 2.06-.94-2.06-.94-.94-2.06-.94 2.06-2.06.94zm-11 1L8.5 8.5l.94-2.06 2.06-.94-2.06-.94L8.5 2.5l-.94 2.06-2.06.94zm10 10l.94 2.06.94-2.06 2.06-.94-2.06-.94-.94-2.06-.94 2.06-2.06.94z\"/><path d=\"M17.41 7.96l-1.37-1.37c-.4-.4-.92-.59-1.43-.59-.52 0-1.04.2-1.43.59L10.3 9.45l-7.72 7.72c-.78.78-.78 2.05 0 2.83L4 21.41c.39.39.9.59 1.41.59.51 0 1.02-.2 1.41-.59l7.78-7.78 2.81-2.81c.8-.78.8-2.07 0-2.86zM5.41 20L4 18.59l7.72-7.72 1.47 1.35L5.41 20z\"/>\n",
              "  </svg>\n",
              "      </button>\n",
              "      \n",
              "  <style>\n",
              "    .colab-df-container {\n",
              "      display:flex;\n",
              "      flex-wrap:wrap;\n",
              "      gap: 12px;\n",
              "    }\n",
              "\n",
              "    .colab-df-convert {\n",
              "      background-color: #E8F0FE;\n",
              "      border: none;\n",
              "      border-radius: 50%;\n",
              "      cursor: pointer;\n",
              "      display: none;\n",
              "      fill: #1967D2;\n",
              "      height: 32px;\n",
              "      padding: 0 0 0 0;\n",
              "      width: 32px;\n",
              "    }\n",
              "\n",
              "    .colab-df-convert:hover {\n",
              "      background-color: #E2EBFA;\n",
              "      box-shadow: 0px 1px 2px rgba(60, 64, 67, 0.3), 0px 1px 3px 1px rgba(60, 64, 67, 0.15);\n",
              "      fill: #174EA6;\n",
              "    }\n",
              "\n",
              "    [theme=dark] .colab-df-convert {\n",
              "      background-color: #3B4455;\n",
              "      fill: #D2E3FC;\n",
              "    }\n",
              "\n",
              "    [theme=dark] .colab-df-convert:hover {\n",
              "      background-color: #434B5C;\n",
              "      box-shadow: 0px 1px 3px 1px rgba(0, 0, 0, 0.15);\n",
              "      filter: drop-shadow(0px 1px 2px rgba(0, 0, 0, 0.3));\n",
              "      fill: #FFFFFF;\n",
              "    }\n",
              "  </style>\n",
              "\n",
              "      <script>\n",
              "        const buttonEl =\n",
              "          document.querySelector('#df-d41ed7bf-db7e-4a8a-ba4f-6287d6f55e81 button.colab-df-convert');\n",
              "        buttonEl.style.display =\n",
              "          google.colab.kernel.accessAllowed ? 'block' : 'none';\n",
              "\n",
              "        async function convertToInteractive(key) {\n",
              "          const element = document.querySelector('#df-d41ed7bf-db7e-4a8a-ba4f-6287d6f55e81');\n",
              "          const dataTable =\n",
              "            await google.colab.kernel.invokeFunction('convertToInteractive',\n",
              "                                                     [key], {});\n",
              "          if (!dataTable) return;\n",
              "\n",
              "          const docLinkHtml = 'Like what you see? Visit the ' +\n",
              "            '<a target=\"_blank\" href=https://colab.research.google.com/notebooks/data_table.ipynb>data table notebook</a>'\n",
              "            + ' to learn more about interactive tables.';\n",
              "          element.innerHTML = '';\n",
              "          dataTable['output_type'] = 'display_data';\n",
              "          await google.colab.output.renderOutput(dataTable, element);\n",
              "          const docLink = document.createElement('div');\n",
              "          docLink.innerHTML = docLinkHtml;\n",
              "          element.appendChild(docLink);\n",
              "        }\n",
              "      </script>\n",
              "    </div>\n",
              "  </div>\n",
              "  "
            ],
            "text/plain": [
              "      MI  HYP   CD  STTC\n",
              "0    0.0  0.0  0.0   0.0\n",
              "1    0.0  0.0  0.0   0.0\n",
              "2    0.0  0.0  0.0   0.0\n",
              "3    0.0  0.0  0.0   0.0\n",
              "4    0.0  0.0  0.0   0.0\n",
              "..   ...  ...  ...   ...\n",
              "610  0.0  0.0  0.0   0.0\n",
              "611  0.0  0.0  0.0   0.0\n",
              "612  0.0  0.0  0.0   0.0\n",
              "613  0.0  0.0  1.0   0.0\n",
              "614  0.0  0.0  0.0   0.0\n",
              "\n",
              "[615 rows x 4 columns]"
            ]
          },
          "metadata": {},
          "execution_count": 66
        }
      ],
      "source": [
        "pred1"
      ]
    },
    {
      "cell_type": "markdown",
      "source": [
        "### MI : Myocardial Infarction"
      ],
      "metadata": {
        "id": "5hxPo-HDhh2y"
      },
      "id": "5hxPo-HDhh2y"
    },
    {
      "cell_type": "code",
      "execution_count": null,
      "id": "959450af",
      "metadata": {
        "id": "959450af",
        "colab": {
          "base_uri": "https://localhost:8080/"
        },
        "outputId": "e9a9af51-76ff-4cb9-a599-59be4f2fe210"
      },
      "outputs": [
        {
          "output_type": "stream",
          "name": "stdout",
          "text": [
            "[[479 116]\n",
            " [  8  12]]\n",
            "Pourcentage d'erreur du dnn pour MI 20.16260162601626  % \n",
            "f1-score du dnn pour MI : 0.16216216216216214\n"
          ]
        }
      ],
      "source": [
        "c1 = confusion_matrix(pred1.iloc[:,0],y_test[:,0])\n",
        "print(c1)\n",
        "f1 = f1_score(pred1.iloc[:,0],y_test[:,0])\n",
        "print(\"Pourcentage d'erreur du dnn pour MI\", (1-accuracy_score(pred1.iloc[:,0],y_test[:,0]))*100, \" % \")\n",
        "print(\"f1-score du dnn pour MI :\",f1)\n"
      ]
    },
    {
      "cell_type": "markdown",
      "source": [
        "### HYP : Hypertrophy"
      ],
      "metadata": {
        "id": "6cgeJECPimpe"
      },
      "id": "6cgeJECPimpe"
    },
    {
      "cell_type": "code",
      "execution_count": null,
      "id": "aeaa0430",
      "metadata": {
        "id": "aeaa0430",
        "colab": {
          "base_uri": "https://localhost:8080/"
        },
        "outputId": "99b1e6cf-4d76-425a-bced-cd26554275c4"
      },
      "outputs": [
        {
          "output_type": "stream",
          "name": "stdout",
          "text": [
            "[[544  71]\n",
            " [  0   0]]\n",
            "Pourcentage d'erreur du dnn pour HYP 11.544715447154474  % \n",
            "f1-score du dnn pour HYP : 0.0\n"
          ]
        }
      ],
      "source": [
        "c2 = confusion_matrix(pred1.iloc[:,1],y_test[:,1])\n",
        "print(c2)\n",
        "f2 = f1_score(pred1.iloc[:,1],y_test[:,1])\n",
        "print(\"Pourcentage d'erreur du dnn pour HYP\", (1-accuracy_score(pred1.iloc[:,1],y_test[:,1]))*100, \" % \")\n",
        "print(\"f1-score du dnn pour HYP :\",f2)"
      ]
    },
    {
      "cell_type": "markdown",
      "source": [
        "### CD : Conduction Disturbance"
      ],
      "metadata": {
        "id": "IlilKL5ljjso"
      },
      "id": "IlilKL5ljjso"
    },
    {
      "cell_type": "code",
      "execution_count": null,
      "id": "ea3d33fa",
      "metadata": {
        "id": "ea3d33fa",
        "colab": {
          "base_uri": "https://localhost:8080/"
        },
        "outputId": "f18086a5-36e4-4eaf-9be1-a9a0c5d83882"
      },
      "outputs": [
        {
          "output_type": "stream",
          "name": "stdout",
          "text": [
            "[[491  73]\n",
            " [  8  43]]\n",
            "Pourcentage d'erreur du dnn pour CD 13.170731707317074  % \n",
            "f1-score du dnn pour CD : 0.5149700598802395\n"
          ]
        }
      ],
      "source": [
        "c3 = confusion_matrix(pred1.iloc[:,2],y_test[:,2])\n",
        "print(c3)\n",
        "f3 = f1_score(pred1.iloc[:,2],y_test[:,2])\n",
        "print(\"Pourcentage d'erreur du dnn pour CD\", (1-accuracy_score(pred1.iloc[:,2],y_test[:,2]))*100, \" % \")\n",
        "print(\"f1-score du dnn pour CD :\",f3)"
      ]
    },
    {
      "cell_type": "markdown",
      "source": [
        "### STTC : ST/T Change"
      ],
      "metadata": {
        "id": "gz6dAQSKjsE-"
      },
      "id": "gz6dAQSKjsE-"
    },
    {
      "cell_type": "code",
      "execution_count": null,
      "id": "21714f5e",
      "metadata": {
        "id": "21714f5e",
        "colab": {
          "base_uri": "https://localhost:8080/"
        },
        "outputId": "38804f08-8734-4cb2-afeb-696bf1bb7ccb"
      },
      "outputs": [
        {
          "output_type": "stream",
          "name": "stdout",
          "text": [
            "[[462 124]\n",
            " [ 13  16]]\n",
            "Pourcentage d'erreur du dnn pour STTC 22.276422764227643  % \n",
            "f1-score du dnn pour STTC : 0.18934911242603547\n"
          ]
        }
      ],
      "source": [
        "c4 = confusion_matrix(pred1.iloc[:,3],y_test[:,3])\n",
        "print(c4)\n",
        "f4 = f1_score(pred1.iloc[:,3],y_test[:,3])\n",
        "print(\"Pourcentage d'erreur du dnn pour STTC\", (1-accuracy_score(pred1.iloc[:,3],y_test[:,3]))*100, \" % \")\n",
        "print(\"f1-score du dnn pour STTC :\",f4)"
      ]
    },
    {
      "cell_type": "markdown",
      "source": [
        "Les résultats semblent assez faibles dans l'ensemble, seule l'anomalie CD obtient une précision et un F1-score corrects. On notera également que notre modèle ne décèle pas du tout l'anomalie HYP (il prédit tout les patients comme négatifs pour cette anomalie)."
      ],
      "metadata": {
        "id": "09ur09EXO7hE"
      },
      "id": "09ur09EXO7hE"
    },
    {
      "cell_type": "markdown",
      "source": [
        "# Fine tunning\n",
        "On a vu que le transfert learning simple ne donnaient pas de résultats convaincants. On va maintenant essayer d'améliorer les performances de notre modèle à l'aide du fine tunning.\n",
        "Le principe est simple : on dé-gèle les couches du modèle de base et on re-enrtaîne la base du modèle avec la dernière couche de classification. Il est important d'utiliser un faible learning rate (ici on choisira 10e-5) pour éviter l'over-fitting. Le but est d'apdapter les poids de l'entraînement de façon incrémentale."
      ],
      "metadata": {
        "id": "a7ekbRy_kv0A"
      },
      "id": "a7ekbRy_kv0A"
    },
    {
      "cell_type": "code",
      "source": [
        "base_model.trainable = True\n",
        "model1.summary()"
      ],
      "metadata": {
        "colab": {
          "base_uri": "https://localhost:8080/"
        },
        "id": "oNNhxgx1qCNF",
        "outputId": "04a0c90d-dbb9-4f83-871e-e5b1a397fbc4"
      },
      "id": "oNNhxgx1qCNF",
      "execution_count": 28,
      "outputs": [
        {
          "output_type": "stream",
          "name": "stdout",
          "text": [
            "Model: \"model_1\"\n",
            "__________________________________________________________________________________________________\n",
            " Layer (type)                   Output Shape         Param #     Connected to                     \n",
            "==================================================================================================\n",
            " signal (InputLayer)            [(None, 4096, 12)]   0           []                               \n",
            "                                                                                                  \n",
            " conv1d_1 (Conv1D)              (None, 4096, 64)     12288       ['signal[0][0]']                 \n",
            "                                                                                                  \n",
            " batch_normalization_1 (BatchNo  (None, 4096, 64)    256         ['conv1d_1[0][0]']               \n",
            " rmalization)                                                                                     \n",
            "                                                                                                  \n",
            " activation_1 (Activation)      (None, 4096, 64)     0           ['batch_normalization_1[0][0]']  \n",
            "                                                                                                  \n",
            " conv1d_3 (Conv1D)              (None, 4096, 128)    131072      ['activation_1[0][0]']           \n",
            "                                                                                                  \n",
            " batch_normalization_2 (BatchNo  (None, 4096, 128)   512         ['conv1d_3[0][0]']               \n",
            " rmalization)                                                                                     \n",
            "                                                                                                  \n",
            " activation_2 (Activation)      (None, 4096, 128)    0           ['batch_normalization_2[0][0]']  \n",
            "                                                                                                  \n",
            " dropout_1 (Dropout)            (None, 4096, 128)    0           ['activation_2[0][0]']           \n",
            "                                                                                                  \n",
            " max_pooling1d_1 (MaxPooling1D)  (None, 1024, 64)    0           ['activation_1[0][0]']           \n",
            "                                                                                                  \n",
            " conv1d_4 (Conv1D)              (None, 1024, 128)    262144      ['dropout_1[0][0]']              \n",
            "                                                                                                  \n",
            " conv1d_2 (Conv1D)              (None, 1024, 128)    8192        ['max_pooling1d_1[0][0]']        \n",
            "                                                                                                  \n",
            " add_1 (Add)                    (None, 1024, 128)    0           ['conv1d_4[0][0]',               \n",
            "                                                                  'conv1d_2[0][0]']               \n",
            "                                                                                                  \n",
            " batch_normalization_3 (BatchNo  (None, 1024, 128)   512         ['add_1[0][0]']                  \n",
            " rmalization)                                                                                     \n",
            "                                                                                                  \n",
            " activation_3 (Activation)      (None, 1024, 128)    0           ['batch_normalization_3[0][0]']  \n",
            "                                                                                                  \n",
            " dropout_2 (Dropout)            (None, 1024, 128)    0           ['activation_3[0][0]']           \n",
            "                                                                                                  \n",
            " conv1d_6 (Conv1D)              (None, 1024, 196)    401408      ['dropout_2[0][0]']              \n",
            "                                                                                                  \n",
            " batch_normalization_4 (BatchNo  (None, 1024, 196)   784         ['conv1d_6[0][0]']               \n",
            " rmalization)                                                                                     \n",
            "                                                                                                  \n",
            " activation_4 (Activation)      (None, 1024, 196)    0           ['batch_normalization_4[0][0]']  \n",
            "                                                                                                  \n",
            " dropout_3 (Dropout)            (None, 1024, 196)    0           ['activation_4[0][0]']           \n",
            "                                                                                                  \n",
            " max_pooling1d_2 (MaxPooling1D)  (None, 256, 128)    0           ['add_1[0][0]']                  \n",
            "                                                                                                  \n",
            " conv1d_7 (Conv1D)              (None, 256, 196)     614656      ['dropout_3[0][0]']              \n",
            "                                                                                                  \n",
            " conv1d_5 (Conv1D)              (None, 256, 196)     25088       ['max_pooling1d_2[0][0]']        \n",
            "                                                                                                  \n",
            " add_2 (Add)                    (None, 256, 196)     0           ['conv1d_7[0][0]',               \n",
            "                                                                  'conv1d_5[0][0]']               \n",
            "                                                                                                  \n",
            " batch_normalization_5 (BatchNo  (None, 256, 196)    784         ['add_2[0][0]']                  \n",
            " rmalization)                                                                                     \n",
            "                                                                                                  \n",
            " activation_5 (Activation)      (None, 256, 196)     0           ['batch_normalization_5[0][0]']  \n",
            "                                                                                                  \n",
            " dropout_4 (Dropout)            (None, 256, 196)     0           ['activation_5[0][0]']           \n",
            "                                                                                                  \n",
            " conv1d_9 (Conv1D)              (None, 256, 256)     802816      ['dropout_4[0][0]']              \n",
            "                                                                                                  \n",
            " batch_normalization_6 (BatchNo  (None, 256, 256)    1024        ['conv1d_9[0][0]']               \n",
            " rmalization)                                                                                     \n",
            "                                                                                                  \n",
            " activation_6 (Activation)      (None, 256, 256)     0           ['batch_normalization_6[0][0]']  \n",
            "                                                                                                  \n",
            " dropout_5 (Dropout)            (None, 256, 256)     0           ['activation_6[0][0]']           \n",
            "                                                                                                  \n",
            " max_pooling1d_3 (MaxPooling1D)  (None, 64, 196)     0           ['add_2[0][0]']                  \n",
            "                                                                                                  \n",
            " conv1d_10 (Conv1D)             (None, 64, 256)      1048576     ['dropout_5[0][0]']              \n",
            "                                                                                                  \n",
            " conv1d_8 (Conv1D)              (None, 64, 256)      50176       ['max_pooling1d_3[0][0]']        \n",
            "                                                                                                  \n",
            " add_3 (Add)                    (None, 64, 256)      0           ['conv1d_10[0][0]',              \n",
            "                                                                  'conv1d_8[0][0]']               \n",
            "                                                                                                  \n",
            " batch_normalization_7 (BatchNo  (None, 64, 256)     1024        ['add_3[0][0]']                  \n",
            " rmalization)                                                                                     \n",
            "                                                                                                  \n",
            " activation_7 (Activation)      (None, 64, 256)      0           ['batch_normalization_7[0][0]']  \n",
            "                                                                                                  \n",
            " dropout_6 (Dropout)            (None, 64, 256)      0           ['activation_7[0][0]']           \n",
            "                                                                                                  \n",
            " conv1d_12 (Conv1D)             (None, 64, 320)      1310720     ['dropout_6[0][0]']              \n",
            "                                                                                                  \n",
            " batch_normalization_8 (BatchNo  (None, 64, 320)     1280        ['conv1d_12[0][0]']              \n",
            " rmalization)                                                                                     \n",
            "                                                                                                  \n",
            " activation_8 (Activation)      (None, 64, 320)      0           ['batch_normalization_8[0][0]']  \n",
            "                                                                                                  \n",
            " dropout_7 (Dropout)            (None, 64, 320)      0           ['activation_8[0][0]']           \n",
            "                                                                                                  \n",
            " max_pooling1d_4 (MaxPooling1D)  (None, 16, 256)     0           ['add_3[0][0]']                  \n",
            "                                                                                                  \n",
            " conv1d_13 (Conv1D)             (None, 16, 320)      1638400     ['dropout_7[0][0]']              \n",
            "                                                                                                  \n",
            " conv1d_11 (Conv1D)             (None, 16, 320)      81920       ['max_pooling1d_4[0][0]']        \n",
            "                                                                                                  \n",
            " add_4 (Add)                    (None, 16, 320)      0           ['conv1d_13[0][0]',              \n",
            "                                                                  'conv1d_11[0][0]']              \n",
            "                                                                                                  \n",
            " batch_normalization_9 (BatchNo  (None, 16, 320)     1280        ['add_4[0][0]']                  \n",
            " rmalization)                                                                                     \n",
            "                                                                                                  \n",
            " activation_9 (Activation)      (None, 16, 320)      0           ['batch_normalization_9[0][0]']  \n",
            "                                                                                                  \n",
            " dropout_8 (Dropout)            (None, 16, 320)      0           ['activation_9[0][0]']           \n",
            "                                                                                                  \n",
            " flatten_1 (Flatten)            (None, 5120)         0           ['dropout_8[0][0]']              \n",
            "                                                                                                  \n",
            " dense_2 (Dense)                (None, 4096)         20975616    ['flatten_1[0][0]']              \n",
            "                                                                                                  \n",
            " dense_3 (Dense)                (None, 4)            16388       ['dense_2[0][0]']                \n",
            "                                                                                                  \n",
            "==================================================================================================\n",
            "Total params: 27,386,916\n",
            "Trainable params: 27,383,188\n",
            "Non-trainable params: 3,728\n",
            "__________________________________________________________________________________________________\n"
          ]
        }
      ]
    },
    {
      "cell_type": "code",
      "source": [
        "model1.compile(loss = 'binary_crossentropy', optimizer = Adam(1e-5)\n",
        "              )\n",
        "\n",
        "epochs = 20\n",
        "batch_size = 64\n",
        "history = model1.fit(X_train_, y_train, batch_size = batch_size , epochs = epochs, validation_split=0.2)\n",
        "plot_learning_curves(history)"
      ],
      "metadata": {
        "colab": {
          "base_uri": "https://localhost:8080/",
          "height": 989
        },
        "id": "NOMfTuWUqZQT",
        "outputId": "b217c7e7-cef9-44f8-93ca-6d3deee1b870"
      },
      "id": "NOMfTuWUqZQT",
      "execution_count": 29,
      "outputs": [
        {
          "output_type": "stream",
          "name": "stdout",
          "text": [
            "Epoch 1/20\n",
            "55/55 [==============================] - 14s 184ms/step - loss: 0.3834 - val_loss: 0.4193\n",
            "Epoch 2/20\n",
            "55/55 [==============================] - 9s 172ms/step - loss: 0.3787 - val_loss: 0.4234\n",
            "Epoch 3/20\n",
            "55/55 [==============================] - 9s 172ms/step - loss: 0.3814 - val_loss: 0.4240\n",
            "Epoch 4/20\n",
            "55/55 [==============================] - 9s 171ms/step - loss: 0.3826 - val_loss: 0.4233\n",
            "Epoch 5/20\n",
            "55/55 [==============================] - 9s 172ms/step - loss: 0.3762 - val_loss: 0.4219\n",
            "Epoch 6/20\n",
            "55/55 [==============================] - 9s 171ms/step - loss: 0.3783 - val_loss: 0.4203\n",
            "Epoch 7/20\n",
            "55/55 [==============================] - 9s 172ms/step - loss: 0.3781 - val_loss: 0.4183\n",
            "Epoch 8/20\n",
            "55/55 [==============================] - 9s 172ms/step - loss: 0.3786 - val_loss: 0.4167\n",
            "Epoch 9/20\n",
            "55/55 [==============================] - 9s 172ms/step - loss: 0.3768 - val_loss: 0.4174\n",
            "Epoch 10/20\n",
            "55/55 [==============================] - 9s 172ms/step - loss: 0.3758 - val_loss: 0.4158\n",
            "Epoch 11/20\n",
            "55/55 [==============================] - 9s 171ms/step - loss: 0.3757 - val_loss: 0.4160\n",
            "Epoch 12/20\n",
            "55/55 [==============================] - 9s 171ms/step - loss: 0.3737 - val_loss: 0.4166\n",
            "Epoch 13/20\n",
            "55/55 [==============================] - 9s 171ms/step - loss: 0.3754 - val_loss: 0.4161\n",
            "Epoch 14/20\n",
            "55/55 [==============================] - 9s 172ms/step - loss: 0.3804 - val_loss: 0.4177\n",
            "Epoch 15/20\n",
            "55/55 [==============================] - 9s 172ms/step - loss: 0.3732 - val_loss: 0.4170\n",
            "Epoch 16/20\n",
            "55/55 [==============================] - 9s 171ms/step - loss: 0.3773 - val_loss: 0.4166\n",
            "Epoch 17/20\n",
            "55/55 [==============================] - 9s 172ms/step - loss: 0.3710 - val_loss: 0.4167\n",
            "Epoch 18/20\n",
            "55/55 [==============================] - 9s 172ms/step - loss: 0.3734 - val_loss: 0.4168\n",
            "Epoch 19/20\n",
            "55/55 [==============================] - 9s 171ms/step - loss: 0.3772 - val_loss: 0.4172\n",
            "Epoch 20/20\n",
            "55/55 [==============================] - 9s 172ms/step - loss: 0.3727 - val_loss: 0.4160\n"
          ]
        },
        {
          "output_type": "display_data",
          "data": {
            "image/png": "[encoded data removed]",
            "text/plain": [
              "<Figure size 432x288 with 1 Axes>"
            ]
          },
          "metadata": {
            "needs_background": "light"
          }
        }
      ]
    },
    {
      "cell_type": "markdown",
      "source": [
        "## Evaluation du modèle"
      ],
      "metadata": {
        "id": "K3VRktXzrzpJ"
      },
      "id": "K3VRktXzrzpJ"
    },
    {
      "cell_type": "code",
      "source": [
        "model2_pred = model1.predict(X_test_)"
      ],
      "metadata": {
        "id": "kqoPay6Mr7lY"
      },
      "id": "kqoPay6Mr7lY",
      "execution_count": 30,
      "outputs": []
    },
    {
      "cell_type": "code",
      "source": [
        "model2_pred"
      ],
      "metadata": {
        "colab": {
          "base_uri": "https://localhost:8080/"
        },
        "id": "XZAJKIQusrDY",
        "outputId": "1e716be4-f954-4802-ff56-3ec290868d56"
      },
      "id": "XZAJKIQusrDY",
      "execution_count": null,
      "outputs": [
        {
          "output_type": "execute_result",
          "data": {
            "text/plain": [
              "array([[0.04801334, 0.03472825, 0.02987201, 0.11776194],\n",
              "       [0.09086487, 0.04503214, 0.14380848, 0.12155046],\n",
              "       [0.28008106, 0.1837382 , 0.33088937, 0.24612421],\n",
              "       ...,\n",
              "       [0.48204252, 0.23344773, 0.63597745, 0.37770203],\n",
              "       [0.39187977, 0.23397776, 0.80722207, 0.34762815],\n",
              "       [0.07039604, 0.03950375, 0.04264768, 0.16568749]], dtype=float32)"
            ]
          },
          "metadata": {},
          "execution_count": 89
        }
      ]
    },
    {
      "cell_type": "code",
      "source": [
        "pred2 = np.zeros((model2_pred.shape[0],4))\n",
        "for i in range(model2_pred.shape[0]):\n",
        "  for j in range (4):\n",
        "    pred2[i,j]=np.round(model2_pred[i,j])   #seuil 0.5\n",
        "\n",
        "\n",
        "pred2=pd.DataFrame(pred2, columns =[\"MI\",\"HYP\",\"CD\",\"STTC\"])"
      ],
      "metadata": {
        "id": "jKdeRwS1s5LH"
      },
      "id": "jKdeRwS1s5LH",
      "execution_count": null,
      "outputs": []
    },
    {
      "cell_type": "code",
      "source": [
        "pred2"
      ],
      "metadata": {
        "colab": {
          "base_uri": "https://localhost:8080/",
          "height": 423
        },
        "id": "enU-MSI8tC_i",
        "outputId": "8e2f689f-91ff-4242-828e-f4e043393818"
      },
      "id": "enU-MSI8tC_i",
      "execution_count": null,
      "outputs": [
        {
          "output_type": "execute_result",
          "data": {
            "text/html": [
              "\n",
              "  <div id=\"df-a0922146-1536-4dd1-8f47-51b603842569\">\n",
              "    <div class=\"colab-df-container\">\n",
              "      <div>\n",
              "<style scoped>\n",
              "    .dataframe tbody tr th:only-of-type {\n",
              "        vertical-align: middle;\n",
              "    }\n",
              "\n",
              "    .dataframe tbody tr th {\n",
              "        vertical-align: top;\n",
              "    }\n",
              "\n",
              "    .dataframe thead th {\n",
              "        text-align: right;\n",
              "    }\n",
              "</style>\n",
              "<table border=\"1\" class=\"dataframe\">\n",
              "  <thead>\n",
              "    <tr style=\"text-align: right;\">\n",
              "      <th></th>\n",
              "      <th>MI</th>\n",
              "      <th>HYP</th>\n",
              "      <th>CD</th>\n",
              "      <th>STTC</th>\n",
              "    </tr>\n",
              "  </thead>\n",
              "  <tbody>\n",
              "    <tr>\n",
              "      <th>0</th>\n",
              "      <td>0.0</td>\n",
              "      <td>0.0</td>\n",
              "      <td>0.0</td>\n",
              "      <td>0.0</td>\n",
              "    </tr>\n",
              "    <tr>\n",
              "      <th>1</th>\n",
              "      <td>0.0</td>\n",
              "      <td>0.0</td>\n",
              "      <td>0.0</td>\n",
              "      <td>0.0</td>\n",
              "    </tr>\n",
              "    <tr>\n",
              "      <th>2</th>\n",
              "      <td>0.0</td>\n",
              "      <td>0.0</td>\n",
              "      <td>0.0</td>\n",
              "      <td>0.0</td>\n",
              "    </tr>\n",
              "    <tr>\n",
              "      <th>3</th>\n",
              "      <td>0.0</td>\n",
              "      <td>0.0</td>\n",
              "      <td>0.0</td>\n",
              "      <td>0.0</td>\n",
              "    </tr>\n",
              "    <tr>\n",
              "      <th>4</th>\n",
              "      <td>0.0</td>\n",
              "      <td>0.0</td>\n",
              "      <td>0.0</td>\n",
              "      <td>0.0</td>\n",
              "    </tr>\n",
              "    <tr>\n",
              "      <th>...</th>\n",
              "      <td>...</td>\n",
              "      <td>...</td>\n",
              "      <td>...</td>\n",
              "      <td>...</td>\n",
              "    </tr>\n",
              "    <tr>\n",
              "      <th>610</th>\n",
              "      <td>0.0</td>\n",
              "      <td>0.0</td>\n",
              "      <td>0.0</td>\n",
              "      <td>0.0</td>\n",
              "    </tr>\n",
              "    <tr>\n",
              "      <th>611</th>\n",
              "      <td>0.0</td>\n",
              "      <td>0.0</td>\n",
              "      <td>0.0</td>\n",
              "      <td>0.0</td>\n",
              "    </tr>\n",
              "    <tr>\n",
              "      <th>612</th>\n",
              "      <td>0.0</td>\n",
              "      <td>0.0</td>\n",
              "      <td>1.0</td>\n",
              "      <td>0.0</td>\n",
              "    </tr>\n",
              "    <tr>\n",
              "      <th>613</th>\n",
              "      <td>0.0</td>\n",
              "      <td>0.0</td>\n",
              "      <td>1.0</td>\n",
              "      <td>0.0</td>\n",
              "    </tr>\n",
              "    <tr>\n",
              "      <th>614</th>\n",
              "      <td>0.0</td>\n",
              "      <td>0.0</td>\n",
              "      <td>0.0</td>\n",
              "      <td>0.0</td>\n",
              "    </tr>\n",
              "  </tbody>\n",
              "</table>\n",
              "<p>615 rows × 4 columns</p>\n",
              "</div>\n",
              "      <button class=\"colab-df-convert\" onclick=\"convertToInteractive('df-a0922146-1536-4dd1-8f47-51b603842569')\"\n",
              "              title=\"Convert this dataframe to an interactive table.\"\n",
              "              style=\"display:none;\">\n",
              "        \n",
              "  <svg xmlns=\"http://www.w3.org/2000/svg\" height=\"24px\"viewBox=\"0 0 24 24\"\n",
              "       width=\"24px\">\n",
              "    <path d=\"M0 0h24v24H0V0z\" fill=\"none\"/>\n",
              "    <path d=\"M18.56 5.44l.94 2.06.94-2.06 2.06-.94-2.06-.94-.94-2.06-.94 2.06-2.06.94zm-11 1L8.5 8.5l.94-2.06 2.06-.94-2.06-.94L8.5 2.5l-.94 2.06-2.06.94zm10 10l.94 2.06.94-2.06 2.06-.94-2.06-.94-.94-2.06-.94 2.06-2.06.94z\"/><path d=\"M17.41 7.96l-1.37-1.37c-.4-.4-.92-.59-1.43-.59-.52 0-1.04.2-1.43.59L10.3 9.45l-7.72 7.72c-.78.78-.78 2.05 0 2.83L4 21.41c.39.39.9.59 1.41.59.51 0 1.02-.2 1.41-.59l7.78-7.78 2.81-2.81c.8-.78.8-2.07 0-2.86zM5.41 20L4 18.59l7.72-7.72 1.47 1.35L5.41 20z\"/>\n",
              "  </svg>\n",
              "      </button>\n",
              "      \n",
              "  <style>\n",
              "    .colab-df-container {\n",
              "      display:flex;\n",
              "      flex-wrap:wrap;\n",
              "      gap: 12px;\n",
              "    }\n",
              "\n",
              "    .colab-df-convert {\n",
              "      background-color: #E8F0FE;\n",
              "      border: none;\n",
              "      border-radius: 50%;\n",
              "      cursor: pointer;\n",
              "      display: none;\n",
              "      fill: #1967D2;\n",
              "      height: 32px;\n",
              "      padding: 0 0 0 0;\n",
              "      width: 32px;\n",
              "    }\n",
              "\n",
              "    .colab-df-convert:hover {\n",
              "      background-color: #E2EBFA;\n",
              "      box-shadow: 0px 1px 2px rgba(60, 64, 67, 0.3), 0px 1px 3px 1px rgba(60, 64, 67, 0.15);\n",
              "      fill: #174EA6;\n",
              "    }\n",
              "\n",
              "    [theme=dark] .colab-df-convert {\n",
              "      background-color: #3B4455;\n",
              "      fill: #D2E3FC;\n",
              "    }\n",
              "\n",
              "    [theme=dark] .colab-df-convert:hover {\n",
              "      background-color: #434B5C;\n",
              "      box-shadow: 0px 1px 3px 1px rgba(0, 0, 0, 0.15);\n",
              "      filter: drop-shadow(0px 1px 2px rgba(0, 0, 0, 0.3));\n",
              "      fill: #FFFFFF;\n",
              "    }\n",
              "  </style>\n",
              "\n",
              "      <script>\n",
              "        const buttonEl =\n",
              "          document.querySelector('#df-a0922146-1536-4dd1-8f47-51b603842569 button.colab-df-convert');\n",
              "        buttonEl.style.display =\n",
              "          google.colab.kernel.accessAllowed ? 'block' : 'none';\n",
              "\n",
              "        async function convertToInteractive(key) {\n",
              "          const element = document.querySelector('#df-a0922146-1536-4dd1-8f47-51b603842569');\n",
              "          const dataTable =\n",
              "            await google.colab.kernel.invokeFunction('convertToInteractive',\n",
              "                                                     [key], {});\n",
              "          if (!dataTable) return;\n",
              "\n",
              "          const docLinkHtml = 'Like what you see? Visit the ' +\n",
              "            '<a target=\"_blank\" href=https://colab.research.google.com/notebooks/data_table.ipynb>data table notebook</a>'\n",
              "            + ' to learn more about interactive tables.';\n",
              "          element.innerHTML = '';\n",
              "          dataTable['output_type'] = 'display_data';\n",
              "          await google.colab.output.renderOutput(dataTable, element);\n",
              "          const docLink = document.createElement('div');\n",
              "          docLink.innerHTML = docLinkHtml;\n",
              "          element.appendChild(docLink);\n",
              "        }\n",
              "      </script>\n",
              "    </div>\n",
              "  </div>\n",
              "  "
            ],
            "text/plain": [
              "      MI  HYP   CD  STTC\n",
              "0    0.0  0.0  0.0   0.0\n",
              "1    0.0  0.0  0.0   0.0\n",
              "2    0.0  0.0  0.0   0.0\n",
              "3    0.0  0.0  0.0   0.0\n",
              "4    0.0  0.0  0.0   0.0\n",
              "..   ...  ...  ...   ...\n",
              "610  0.0  0.0  0.0   0.0\n",
              "611  0.0  0.0  0.0   0.0\n",
              "612  0.0  0.0  1.0   0.0\n",
              "613  0.0  0.0  1.0   0.0\n",
              "614  0.0  0.0  0.0   0.0\n",
              "\n",
              "[615 rows x 4 columns]"
            ]
          },
          "metadata": {},
          "execution_count": 91
        }
      ]
    },
    {
      "cell_type": "markdown",
      "source": [
        "### MI : Myocardial Infarction"
      ],
      "metadata": {
        "id": "kZwJnAD6tNf1"
      },
      "id": "kZwJnAD6tNf1"
    },
    {
      "cell_type": "code",
      "source": [
        "c1 = confusion_matrix(pred2.iloc[:,0],y_test[:,0])\n",
        "print(c1)\n",
        "f1 = f1_score(pred2.iloc[:,0],y_test[:,0])\n",
        "print(\"Pourcentage d'erreur du dnn pour MI\", (1-accuracy_score(pred2.iloc[:,0],y_test[:,0]))*100, \" % \")\n",
        "print(\"f1-score du dnn pour MI :\",f1)"
      ],
      "metadata": {
        "colab": {
          "base_uri": "https://localhost:8080/"
        },
        "id": "jBs-SfZ9thA9",
        "outputId": "1b12febd-224b-4dd0-d7ed-b8923aa18e89"
      },
      "id": "jBs-SfZ9thA9",
      "execution_count": null,
      "outputs": [
        {
          "output_type": "stream",
          "name": "stdout",
          "text": [
            "[[477 113]\n",
            " [ 10  15]]\n",
            "Pourcentage d'erreur du dnn pour MI 19.999999999999996  % \n",
            "f1-score du dnn pour MI : 0.19607843137254902\n"
          ]
        }
      ]
    },
    {
      "cell_type": "markdown",
      "source": [
        "### HYP : Hypertrophy"
      ],
      "metadata": {
        "id": "lDjAH4_atOU-"
      },
      "id": "lDjAH4_atOU-"
    },
    {
      "cell_type": "code",
      "source": [
        "c2 = confusion_matrix(pred2.iloc[:,1],y_test[:,1])\n",
        "print(c2)\n",
        "f2 = f1_score(pred2.iloc[:,1],y_test[:,1])\n",
        "print(\"Pourcentage d'erreur du dnn pour HYP\", (1-accuracy_score(pred2.iloc[:,1],y_test[:,1]))*100, \" % \")\n",
        "print(\"f1-score du dnn pour HYP :\",f2)"
      ],
      "metadata": {
        "colab": {
          "base_uri": "https://localhost:8080/"
        },
        "id": "TjpT-ayUth2U",
        "outputId": "6e3ff10b-93bc-4fd5-9256-377b2dea6c88"
      },
      "id": "TjpT-ayUth2U",
      "execution_count": null,
      "outputs": [
        {
          "output_type": "stream",
          "name": "stdout",
          "text": [
            "[[544  71]\n",
            " [  0   0]]\n",
            "Pourcentage d'erreur du dnn pour HYP 11.544715447154474  % \n",
            "f1-score du dnn pour HYP : 0.0\n"
          ]
        }
      ]
    },
    {
      "cell_type": "markdown",
      "source": [
        "### CD : Conduction Disturbance"
      ],
      "metadata": {
        "id": "0VlRwJWutO5y"
      },
      "id": "0VlRwJWutO5y"
    },
    {
      "cell_type": "code",
      "source": [
        "c3 = confusion_matrix(pred2.iloc[:,2],y_test[:,2])\n",
        "print(c3)\n",
        "f3 = f1_score(pred2.iloc[:,2],y_test[:,2])\n",
        "print(\"Pourcentage d'erreur du dnn pour CD\", (1-accuracy_score(pred2.iloc[:,2],y_test[:,2]))*100, \" % \")\n",
        "print(\"f1-score du dnn pour CD :\",f3)"
      ],
      "metadata": {
        "colab": {
          "base_uri": "https://localhost:8080/"
        },
        "id": "Ile1_wsbtiri",
        "outputId": "b8c0aa39-e40a-46c3-fc6b-4f9e77ba4610"
      },
      "id": "Ile1_wsbtiri",
      "execution_count": null,
      "outputs": [
        {
          "output_type": "stream",
          "name": "stdout",
          "text": [
            "[[479  65]\n",
            " [ 20  51]]\n",
            "Pourcentage d'erreur du dnn pour CD 13.821138211382111  % \n",
            "f1-score du dnn pour CD : 0.5454545454545455\n"
          ]
        }
      ]
    },
    {
      "cell_type": "markdown",
      "source": [
        "### STTC : ST/T Change"
      ],
      "metadata": {
        "id": "Leeo5_0OtPev"
      },
      "id": "Leeo5_0OtPev"
    },
    {
      "cell_type": "code",
      "source": [
        "c4 = confusion_matrix(pred2.iloc[:,3],y_test[:,3])\n",
        "print(c4)\n",
        "f4 = f1_score(pred2.iloc[:,3],y_test[:,3])\n",
        "print(\"Pourcentage d'erreur du dnn pour STTC\", (1-accuracy_score(pred2.iloc[:,3],y_test[:,3]))*100, \" % \")\n",
        "print(\"f1-score du dnn pour STTC :\",f4)"
      ],
      "metadata": {
        "colab": {
          "base_uri": "https://localhost:8080/"
        },
        "id": "gseJ_EFStNUk",
        "outputId": "e19a0b5e-5de4-4559-e86d-5cc59a055a90"
      },
      "id": "gseJ_EFStNUk",
      "execution_count": null,
      "outputs": [
        {
          "output_type": "stream",
          "name": "stdout",
          "text": [
            "[[465 124]\n",
            " [ 10  16]]\n",
            "Pourcentage d'erreur du dnn pour STTC 21.788617886178862  % \n",
            "f1-score du dnn pour STTC : 0.19277108433734938\n"
          ]
        }
      ]
    },
    {
      "cell_type": "markdown",
      "source": [
        "Le fine-tunning a légérement amélioré les résultats, cependant ceux-ci restent assez faibles, et notre modèle n'arrive toujours pas à décéler l'anomalie HYP."
      ],
      "metadata": {
        "id": "4m2naw4tY5VN"
      },
      "id": "4m2naw4tY5VN"
    },
    {
      "cell_type": "markdown",
      "source": [
        "## Courbes precision-recall\n",
        "La courbe de précision-recall est une autre méthode pour évaluer un modèle de classification. Elle compare le taux de VP, en fonction de la précision (taux de prédictions positifs bien effectuées) (VP / (VP + FP)) pour différentes valeurs de seuil. La courbe PR indique la capacité d'un modèle à classer les classes minoriaires. Lorsque les données sont déséquilibrées, ce qui est notre cas ici, la courbe PR est plus adaptée que la courbe ROC."
      ],
      "metadata": {
        "id": "OIbAmke9cRtY"
      },
      "id": "OIbAmke9cRtY"
    },
    {
      "cell_type": "code",
      "source": [
        "pr1, rec1, thresholds1 = precision_recall_curve(y_test[:,0],model2_pred[:,0])\n",
        "pr2, rec2, thresholds2 = precision_recall_curve(y_test[:,1],model2_pred[:,1])\n",
        "pr3, rec3, thresholds3 = precision_recall_curve(y_test[:,2],model2_pred[:,2])\n",
        "pr4, rec4, thresholds4 = precision_recall_curve(y_test[:,3],model2_pred[:,3])\n",
        "\n",
        "\n",
        "\n",
        "plt.figure(figsize=(13,9))\n",
        "plt.plot(rec1, pr1, label='MI')\n",
        "plt.plot(rec2, pr2, label='HYP')\n",
        "plt.plot(rec3, pr3, label='CD')\n",
        "plt.plot(rec4, pr4, label='STTC')\n",
        "\n",
        "\n",
        "plt.xlabel('Recall')\n",
        "plt.ylabel('Precision')\n",
        "plt.title(\"Courbes precision/recall\")\n",
        "plt.legend()\n",
        "plt.show()\n"
      ],
      "metadata": {
        "colab": {
          "base_uri": "https://localhost:8080/",
          "height": 567
        },
        "id": "BcDhSiz7Y1e7",
        "outputId": "a7833a12-5800-458a-8cb0-2cf7d7e25d01"
      },
      "id": "BcDhSiz7Y1e7",
      "execution_count": 33,
      "outputs": [
        {
          "output_type": "display_data",
          "data": {
            "image/png": "[encoded data removed]",
            "text/plain": [
              "<Figure size 936x648 with 1 Axes>"
            ]
          },
          "metadata": {
            "needs_background": "light"
          }
        }
      ]
    },
    {
      "cell_type": "markdown",
      "source": [
        "Les courbes PR confirment le fait que notre modèle n'est pas très performant en particulier pour l'anomalie HYP que notre modèle n'arrive pas du tout à détecter."
      ],
      "metadata": {
        "id": "QMsfvDiwchuC"
      },
      "id": "QMsfvDiwchuC"
    },
    {
      "cell_type": "markdown",
      "source": [
        "# Conclusion\n",
        "En conclusion, on peut dire que les résultats ne sont pas très convaincants sur nos nouvelles données, alors qu'ils étaient très convaincants pour les données de la première partie. Plusieurs facteurs peuvent être à l'origine de cette mauvaise performance :\n",
        "- Peut-être que les anomalies de cette 2e partie ne sont pas adaptées pour être entraînées de la même manière (avec transfert learning) que les données de la 1ère partie\n",
        "- Peut être que le fait d'utiliser seulement les 5000 premières données du dataset à cause du problème de saturation de la RAM biaise le modèle et ne donne pas les résultats optimaux\n",
        "- Peut être que le seuil de 0.5 utilisé n'est pas approprié (en particulier pour l'anomalie HYP que notre modèle ne peut pas détecter)\n",
        "- Peut être que lors du fine tuning, il ne faut pas dégeler entièrement le modèle de base mais seulement certaines couches finales. Il faudrait faire plus de tests pour savoir jusqu'à où dégeler le modèle de base pour obtenir des résultats optimaux.\n",
        "\n",
        "Dans tous les cas, ce projet nous a permis de comprendre comment le deep learning était utilisé dans la pratique de tous les jours."
      ],
      "metadata": {
        "id": "fv5lEQLjdGE3"
      },
      "id": "fv5lEQLjdGE3"
    },
    {
      "cell_type": "code",
      "source": [
        ""
      ],
      "metadata": {
        "id": "gB-m9LzPfhm0"
      },
      "id": "gB-m9LzPfhm0",
      "execution_count": null,
      "outputs": []
    }
  ],
  "metadata": {
    "kernelspec": {
      "display_name": "Python 3",
      "language": "python",
      "name": "python3"
    },
    "language_info": {
      "codemirror_mode": {
        "name": "ipython",
        "version": 3
      },
      "file_extension": ".py",
      "mimetype": "text/x-python",
      "name": "python",
      "nbconvert_exporter": "python",
      "pygments_lexer": "ipython3",
      "version": "3.8.8"
    },
    "colab": {
      "name": "Projet-ECG-Partie2.ipynb",
      "provenance": [],
      "collapsed_sections": [],
      "toc_visible": true,
      "machine_shape": "hm",
      "include_colab_link": true
    },
    "accelerator": "GPU"
  },
  "nbformat": 4,
  "nbformat_minor": 5
}